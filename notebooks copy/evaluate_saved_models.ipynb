{
 "cells": [
  {
   "cell_type": "code",
   "execution_count": 1,
   "id": "fleet-butter",
   "metadata": {},
   "outputs": [],
   "source": [
    "import tensorflow as tf\n",
    "from tensorflow.keras.preprocessing.image import ImageDataGenerator\n",
    "from tensorflow.keras.preprocessing import image\n",
    "from tensorflow.keras.models import load_model\n",
    "from tensorflow.keras.applications.resnet50 import preprocess_input\n",
    "import tensorflow_addons as tfa\n",
    "from sklearn.metrics import confusion_matrix\n",
    "import seaborn as sns\n",
    "\n",
    "import numpy as np\n",
    "import matplotlib.pyplot as plt\n",
    "import numpy as np\n",
    "import pandas as pd\n",
    "from PIL import Image\n",
    "import pandas as pd\n",
    "import os\n",
    "import pathlib\n",
    "import math\n",
    "from itertools import islice \n",
    "import sys\n",
    "sys.path.append('/workspace/detect-me/product_classifier/scripts')\n",
    "from utils.data_loader import load_data_flow_from_directory,load_data_flow_from_dataframe"
   ]
  },
  {
   "cell_type": "code",
   "execution_count": 3,
   "id": "measured-reality",
   "metadata": {},
   "outputs": [],
   "source": [
    "# from bidi.algorithm import get_display\n",
    "# import arabic_reshaper\n",
    "\n",
    "# def farsiz(string):\n",
    "#     reshaped_text = arabic_reshaper.reshape(u'{}'.format(string))\n",
    "#     return get_display(reshaped_text)"
   ]
  },
  {
   "cell_type": "markdown",
   "id": "bearing-flesh",
   "metadata": {},
   "source": [
    "# LIST SAVED MODELS"
   ]
  },
  {
   "cell_type": "code",
   "execution_count": 4,
   "id": "13da676f-b3fa-40d7-a9af-edf6398128ee",
   "metadata": {},
   "outputs": [],
   "source": [
    "BASE = '/workspace/detect-me/product_classifier/saved_models/by_category/'"
   ]
  },
  {
   "cell_type": "code",
   "execution_count": 5,
   "id": "eab1ca63-a092-4720-8ec8-32030d4aa2dc",
   "metadata": {},
   "outputs": [
    {
     "name": "stdout",
     "output_type": "stream",
     "text": [
      "resnet50  resnet50v2  tensorboard_logs\n"
     ]
    }
   ],
   "source": [
    "!ls $BASE"
   ]
  },
  {
   "cell_type": "code",
   "execution_count": 6,
   "id": "3a11123e-200d-4442-946a-7e6bb452a0df",
   "metadata": {},
   "outputs": [],
   "source": [
    "base_model_name = 'resnet50'"
   ]
  },
  {
   "cell_type": "code",
   "execution_count": 7,
   "id": "f8d493ae-a1a3-4c0c-be9d-41bfe3918597",
   "metadata": {},
   "outputs": [
    {
     "name": "stdout",
     "output_type": "stream",
     "text": [
      "'RESNET50---(Freeze-120)-(lr-0.0088-adam)-(opt_cb-cosine_learning_rate_decay)-(epoch-25)-(batch-18)-(dropout-0.1)-mixup-False-by_category_first_try__2021-Aug-04----133505'\n"
     ]
    }
   ],
   "source": [
    "!ls $BASE/$base_model_name"
   ]
  },
  {
   "cell_type": "code",
   "execution_count": 8,
   "id": "chief-blast",
   "metadata": {},
   "outputs": [
    {
     "name": "stdout",
     "output_type": "stream",
     "text": [
      "densenet121  efficientnetb7  resnet50\t tensorboard_logs\n",
      "densenet201  resnet152v2     resnet50v2  vgg16\n"
     ]
    }
   ],
   "source": [
    "!ls /workspace/detect-me/product_classifier/saved_models/milk/"
   ]
  },
  {
   "cell_type": "code",
   "execution_count": 9,
   "id": "familiar-monroe",
   "metadata": {},
   "outputs": [],
   "source": [
    "# base_model_name = 'efficientnetb7'"
   ]
  },
  {
   "cell_type": "code",
   "execution_count": 10,
   "id": "secret-times",
   "metadata": {},
   "outputs": [],
   "source": [
    "# !ls /workspace/detect-me/product_classifier/saved_models/milk/$base_model_name"
   ]
  },
  {
   "cell_type": "code",
   "execution_count": 11,
   "id": "starting-safety",
   "metadata": {},
   "outputs": [],
   "source": [
    "\n",
    "classifier_model_name_1='RESNET50---(Freeze-120)-(lr-0.0088-adam)-(opt_cb-cosine_learning_rate_decay)-(epoch-25)-(batch-18)-(dropout-0.1)-mixup-False-by_category_first_try__2021-Aug-04----133505'\n"
   ]
  },
  {
   "cell_type": "code",
   "execution_count": 12,
   "id": "754d897b-a0a0-47cd-8b68-4c44950f93c4",
   "metadata": {},
   "outputs": [],
   "source": [
    "csv = pd.read_csv(pathlib.Path(BASE) / base_model_name / classifier_model_name_1 / 'vms_code_mapping.csv')\n",
    "train_count =\\\n",
    "    pd.read_csv(pathlib.Path(BASE) / base_model_name / classifier_model_name_1 / 'train_info.csv',\n",
    "                          index_col=0,\n",
    "                          names = ['code', 'count'])"
   ]
  },
  {
   "cell_type": "code",
   "execution_count": 13,
   "id": "1801c9d8-8053-49e0-b0b2-1e615af1e359",
   "metadata": {},
   "outputs": [],
   "source": [
    "joind_train_info = train_count.set_index('code').join(csv.set_index('code'))"
   ]
  },
  {
   "cell_type": "code",
   "execution_count": 14,
   "id": "ebe7a034-b7cd-4de3-a910-d3efd3862438",
   "metadata": {},
   "outputs": [],
   "source": [
    "joind_train_info = joind_train_info.reset_index()"
   ]
  },
  {
   "cell_type": "code",
   "execution_count": 15,
   "id": "distant-there",
   "metadata": {},
   "outputs": [],
   "source": [
    "# f'/workspace/product_classifier/saved_models/milk/{base_model_name}/{trained_model_name}'"
   ]
  },
  {
   "cell_type": "code",
   "execution_count": 16,
   "id": "collected-spare",
   "metadata": {},
   "outputs": [],
   "source": [
    "# !rm -r '/workspace/product_classifier/s!rm -r '/workspace/product_classifier/saved_models/milk/resnet50/35_epoch_001_lr_finetune80/'aved_models/milk/resnet50/35_epoch_001_lr_finetune80/'"
   ]
  },
  {
   "cell_type": "markdown",
   "id": "acoustic-merit",
   "metadata": {},
   "source": [
    "# LOAD MODEL"
   ]
  },
  {
   "cell_type": "code",
   "execution_count": 17,
   "id": "beautiful-court",
   "metadata": {
    "scrolled": true,
    "tags": []
   },
   "outputs": [
    {
     "name": "stdout",
     "output_type": "stream",
     "text": [
      "Model: \"model\"\n",
      "_________________________________________________________________\n",
      "Layer (type)                 Output Shape              Param #   \n",
      "=================================================================\n",
      "input_2 (InputLayer)         [(None, 224, 224, 3)]     0         \n",
      "_________________________________________________________________\n",
      "tf.__operators__.getitem (Sl (None, 224, 224, 3)       0         \n",
      "_________________________________________________________________\n",
      "tf.nn.bias_add (TFOpLambda)  (None, 224, 224, 3)       0         \n",
      "_________________________________________________________________\n",
      "resnet50 (Functional)        (None, None, None, 2048)  23587712  \n",
      "_________________________________________________________________\n",
      "global_average_pooling2d (Gl (None, 2048)              0         \n",
      "_________________________________________________________________\n",
      "dropout (Dropout)            (None, 2048)              0         \n",
      "_________________________________________________________________\n",
      "dense (Dense)                (None, 1024)              2098176   \n",
      "_________________________________________________________________\n",
      "dense_1 (Dense)              (None, 57)                58425     \n",
      "=================================================================\n",
      "Total params: 25,744,313\n",
      "Trainable params: 25,691,193\n",
      "Non-trainable params: 53,120\n",
      "_________________________________________________________________\n"
     ]
    }
   ],
   "source": [
    "model = \\\n",
    "    load_model(\n",
    "    pathlib.Path(BASE) / base_model_name / classifier_model_name_1,\n",
    "#     custom_objects={\"F1Score\": tfa.metrics.F1Score}\n",
    "#     compile=False\n",
    ")\n",
    "model.summary()\n",
    "\n",
    "# probability_model = tf.keras.Sequential([model,\n",
    "#                                          tf.keras.layers.Softmax()])"
   ]
  },
  {
   "cell_type": "markdown",
   "id": "international-fever",
   "metadata": {},
   "source": [
    "# DATA GENERATOR "
   ]
  },
  {
   "cell_type": "code",
   "execution_count": 23,
   "id": "8bb9e34a-6a30-439b-addf-cb14ac171822",
   "metadata": {},
   "outputs": [],
   "source": [
    "cat = 'by_category'"
   ]
  },
  {
   "cell_type": "code",
   "execution_count": 25,
   "id": "commercial-damages",
   "metadata": {},
   "outputs": [
    {
     "name": "stdout",
     "output_type": "stream",
     "text": [
      "len classes_set 57\n",
      "load_with OUT_mixup_generator\n",
      "Found 6850 validated image filenames belonging to 57 classes.\n",
      "Found 1736 validated image filenames belonging to 57 classes.\n",
      "Found 1 validated image filenames belonging to 57 classes.\n",
      "train\n",
      "validation\n",
      "test\n",
      "num_classes\n",
      "class_indices\n",
      "samples\n"
     ]
    }
   ],
   "source": [
    "csv_path = '/workspace/detect-me/product_classifier/sold60_12JUN.csv'\n",
    "\n",
    "test_set = 'test'\n",
    "train_val_dir = f'/workspace/detect-me/product_classifier/data/{cat}/train-val'\n",
    "test_dir = f'/workspace/detect-me/product_classifier/data/{cat}/test'\n",
    "# clear_directory(train_val_dir)\n",
    "# clear_directory(test_dir)\n",
    "\n",
    "data_flow = \\\n",
    "load_data_flow_from_dataframe(\n",
    "    train_val_dir,\n",
    "    test_dir,\n",
    "    (224,224),\n",
    "    1,\n",
    "#     csv_path\n",
    ")\n",
    "\n",
    "# data_flow = \\\n",
    "# load_data_flow_from_directory(\n",
    "#     train_val_dir,\n",
    "#     test_dir,\n",
    "#     (224,224),\n",
    "#     1,csv_path)\n",
    "\n",
    "print('\\n'.join(data_flow.keys()))"
   ]
  },
  {
   "cell_type": "code",
   "execution_count": 26,
   "id": "1471a4ea-3d30-4da9-b79e-b6d4531dc166",
   "metadata": {},
   "outputs": [
    {
     "data": {
      "text/plain": [
       "set()"
      ]
     },
     "execution_count": 26,
     "metadata": {},
     "output_type": "execute_result"
    }
   ],
   "source": [
    "import os\n",
    "trainfiles = set(os.listdir(train_val_dir))\n",
    "testfiles = set(os.listdir(test_dir))\n",
    "testfiles - trainfiles"
   ]
  },
  {
   "cell_type": "markdown",
   "id": "twelve-carbon",
   "metadata": {},
   "source": [
    "# INFO"
   ]
  },
  {
   "cell_type": "code",
   "execution_count": 21,
   "id": "domestic-bibliography",
   "metadata": {},
   "outputs": [],
   "source": [
    "all_products = pd.read_csv('/workspace/detect-me/all_products.csv')\n",
    "all_products = all_products.dropna(subset=['vms_food_id'])\n",
    "all_products= all_products.astype({'vms_food_id' : int})\n",
    "dict_milk_vms_title = all_products[all_products.CAT == 'MILK'][['vms_food_id','title']].set_index('vms_food_id').to_dict()\n",
    "\n",
    "# np.unique(data_flow['train'].labels,return_counts=True)[0].shape\n",
    "\n",
    "# # train_count_labels = pd.DataFrame(np.unique(data_flow['train'].labels,return_counts=True)).T\n",
    "# # train_count_labels.columns = ['code', 'counts']\n",
    "# # train_count_labels = csv.set_index('code').join(train_count_labels.set_index('code'))\n",
    "# # # train_count_labels.to_csv('/workspace/detect-me/product_classifier/vms_count_in_trainset.csv')\n",
    "# # # train_count_labels.to_csv('/workspace/sftp-files-from-BI-SRV/vms_count_in_trainset.csv')\n",
    "\n",
    "# # from itertools import islice\n",
    "# num_samples = data_flow['test'].samples\n",
    "# test_images_labels = list(islice(data_flow['test'], num_samples))\n",
    "# test_images , labels = list(zip(*test_images_labels))\n",
    "# num_classes = data_flow['test'].num_classes\n",
    "# test_labels = data_flow['test'].labels\n",
    "# calss_mapping_dict = data_flow['test'].class_indices\n",
    "# calss_mapping_dict = {y:x for x,y in calss_mapping_dict.items()}"
   ]
  },
  {
   "cell_type": "code",
   "execution_count": 27,
   "id": "virtual-paper",
   "metadata": {},
   "outputs": [],
   "source": [
    "joind_train_info = joind_train_info.assign(\n",
    "    cuts = pd.cut(joind_train_info['count'],\n",
    "                  bins=[0,5,10,20,30,40,100,200,1000],\n",
    "                 labels=['vvlow' , 'vlow' , 'low', 'mid0', 'mid1', 'high', 'vhigh', 'vvhigh',  ])\n",
    ")"
   ]
  },
  {
   "cell_type": "code",
   "execution_count": 28,
   "id": "f61d016e-4ac0-4e03-b5bb-748eda2b1d8d",
   "metadata": {},
   "outputs": [],
   "source": [
    "vms_with_low_trainig = joind_train_info[joind_train_info['count'] <= 5]"
   ]
  },
  {
   "cell_type": "code",
   "execution_count": 29,
   "id": "removable-miracle",
   "metadata": {},
   "outputs": [
    {
     "data": {
      "text/plain": [
       "<AxesSubplot:xlabel='bins'>"
      ]
     },
     "execution_count": 29,
     "metadata": {},
     "output_type": "execute_result"
    },
    {
     "data": {
      "image/png": "[encoded data removed]",
      "text/plain": [
       "<Figure size 1440x576 with 1 Axes>"
      ]
     },
     "metadata": {
      "needs_background": "light"
     },
     "output_type": "display_data"
    }
   ],
   "source": [
    "bins_count = joind_train_info['cuts'].value_counts().reset_index()\n",
    "\n",
    "bins_count.columns = ['bins', 'cuts']\n",
    "\n",
    "bins_count = bins_count.astype({'bins': str})\n",
    "\n",
    "bins_count.plot(x='bins',\n",
    "                y='cuts',\n",
    "                kind='bar',\n",
    "                figsize=(20,8),\n",
    "                grid=True)"
   ]
  },
  {
   "cell_type": "markdown",
   "id": "after-peace",
   "metadata": {},
   "source": [
    "# VMS with low amount of training"
   ]
  },
  {
   "cell_type": "code",
   "execution_count": 25,
   "id": "lesbian-omega",
   "metadata": {},
   "outputs": [],
   "source": [
    "vms_low = joind_train_info[joind_train_info['cuts'].isin(['vvlow' , 'vlow' , 'low'])]['vms']"
   ]
  },
  {
   "cell_type": "code",
   "execution_count": 26,
   "id": "portuguese-modem",
   "metadata": {},
   "outputs": [],
   "source": [
    "vms_high = joind_train_info[joind_train_info['cuts'].isin(['vhigh', 'vvhigh'])]['vms']"
   ]
  },
  {
   "cell_type": "code",
   "execution_count": 27,
   "id": "instant-reynolds",
   "metadata": {},
   "outputs": [],
   "source": [
    "# vms_low.to_csv('/workspace/vms_low.csv')"
   ]
  },
  {
   "cell_type": "markdown",
   "id": "offensive-database",
   "metadata": {},
   "source": [
    "# MERGE TEST "
   ]
  },
  {
   "cell_type": "code",
   "execution_count": 28,
   "id": "humanitarian-empire",
   "metadata": {
    "tags": []
   },
   "outputs": [],
   "source": [
    "# import shutil\n",
    "# import os\n",
    "\n",
    "# for p in ['test_shelf_crop','test' , '21apr', 'urumai' , 'tirajeh']:\n",
    "#     path = f'/workspace/detect-me/product_classifier/data/milk/{p}'\n",
    "#     L = list(pathlib.Path(path).rglob('*.*'))\n",
    "#     for file in L:\n",
    "#         try:\n",
    "#             vms = file.parent.name\n",
    "#             dest = f'/workspace/detect-me/product_classifier/data/milk/merge_all_test/{vms}'\n",
    "#             if not os.path.exists(dest):\n",
    "#                 print('making files')\n",
    "#                 os.makedirs(dest)\n",
    "#             shutil.copy(file, dest)  # For newer Python.\n",
    "#         except:\n",
    "#             print(file)"
   ]
  },
  {
   "cell_type": "markdown",
   "id": "frequent-proportion",
   "metadata": {},
   "source": [
    "# EVALUATE ON TEST DATE"
   ]
  },
  {
   "cell_type": "code",
   "execution_count": 30,
   "id": "systematic-combining",
   "metadata": {},
   "outputs": [
    {
     "name": "stdout",
     "output_type": "stream",
     "text": [
      "1/1 [==============================] - 3s 3s/step - loss: 3.2186e-06 - accuracy: 1.0000 - Precision-tr-0.5: 1.0000 - Precision-tr-0.9: 1.0000 - fp: 0.0000e+00 - fn: 0.0000e+00 - recall-tr--0.5: 1.0000 - recall-tr--0.9: 1.0000\n"
     ]
    },
    {
     "data": {
      "text/plain": [
       "[3.2186455882765586e-06, 1.0, 1.0, 1.0, 0.0, 0.0, 1.0, 1.0]"
      ]
     },
     "execution_count": 30,
     "metadata": {},
     "output_type": "execute_result"
    }
   ],
   "source": [
    "model.evaluate(data_flow['test'])"
   ]
  },
  {
   "cell_type": "code",
   "execution_count": 31,
   "id": "boxed-malta",
   "metadata": {},
   "outputs": [
    {
     "data": {
      "text/plain": [
       "<matplotlib.image.AxesImage at 0x7f38dc75ff10>"
      ]
     },
     "execution_count": 31,
     "metadata": {},
     "output_type": "execute_result"
    },
    {
     "data": {
      "image/png": "[encoded data removed]",
      "text/plain": [
       "<Figure size 432x288 with 1 Axes>"
      ]
     },
     "metadata": {
      "needs_background": "light"
     },
     "output_type": "display_data"
    }
   ],
   "source": [
    "plt.imshow(next(data_flow['test'])[0][0,...].astype('uint8'))"
   ]
  },
  {
   "cell_type": "code",
   "execution_count": 30,
   "id": "mysterious-jewel",
   "metadata": {},
   "outputs": [],
   "source": [
    "Y_true = np.array(data_flow['test'].labels)\n",
    "preds = model.predict(data_flow['test'])\n",
    "preds = np.argmax(preds,axis=1)"
   ]
  },
  {
   "cell_type": "code",
   "execution_count": 31,
   "id": "7265efef-4311-41c0-80eb-3ce3faf04094",
   "metadata": {},
   "outputs": [],
   "source": [
    "joind_train_info_dict = joind_train_info.to_dict()"
   ]
  },
  {
   "cell_type": "code",
   "execution_count": 34,
   "id": "f66c9439-5aa3-48e9-bcb7-9141607e654c",
   "metadata": {},
   "outputs": [],
   "source": [
    "wrong_ones = np.where(Y_true!=preds)[0]\n",
    "wrong_pred_true_value = zip(Y_true[wrong_ones],\n",
    "                            preds[wrong_ones])\n",
    "wrong_guesses = pd.DataFrame(list(wrong_pred_true_value))\n",
    "\n",
    "wrong_guesses.columns=['Y_true',\n",
    "                       'preds']\n",
    "\n",
    "wrong_guesses = wrong_guesses.assign(\n",
    "            vms_true= wrong_guesses['Y_true'].map(joind_train_info_dict['vms']),\n",
    "            vms_pred= wrong_guesses['preds'].map(joind_train_info_dict['vms']))\n",
    "\n",
    "labels_ = list(set([*Y_true,*preds]))\n",
    "# set_Y_true =list(set(Y_true))\n",
    "vms_true = [joind_train_info_dict['vms'].get(x) for x in labels_]\n",
    "ll=[]\n",
    "for x in vms_true:\n",
    "    ll.append(dict_milk_vms_title['title'].get(int(x)))\n",
    "ll = [farsiz(x) for x in ll]\n",
    "zip_vms_code_title = zip(labels_,vms_true,ll )\n",
    "\n",
    "\n",
    "sns.set(font_scale=1.8)\n",
    "plt.figure(figsize=(40,40))\n",
    "\n",
    "\n",
    "cm = confusion_matrix(Y_true, preds,\n",
    "                      labels=labels_\n",
    "                     )\n",
    "b=cm.sum(axis=1).reshape(-1,1)\n",
    "cm_p = np.divide(cm,\n",
    "              b,\n",
    "#               out=np.zeros_like(cm),\n",
    "              where=b!=0\n",
    "             )\n",
    "\n",
    "df1 = pd.DataFrame(cm_p)\n",
    "df2 = pd.DataFrame(cm)\n",
    "\n",
    "cm_fr = ((df1*100).round(1).astype(str) + '%\\n(' + df2.astype(str) + ')').values\n",
    "\n",
    "ax_labels = [f'label {x} : vms {y} {z}' for x,y,z in zip_vms_code_title]"
   ]
  },
  {
   "cell_type": "code",
   "execution_count": 68,
   "id": "997205bc-51ca-4a36-bcd9-3352f08822ea",
   "metadata": {},
   "outputs": [
    {
     "data": {
      "text/plain": [
       "1.0"
      ]
     },
     "execution_count": 68,
     "metadata": {},
     "output_type": "execute_result"
    }
   ],
   "source": [
    "np.max(cm_p)"
   ]
  },
  {
   "cell_type": "code",
   "execution_count": 72,
   "id": "6d759d56-4499-4163-b33f-4097f8b48da0",
   "metadata": {},
   "outputs": [
    {
     "data": {
      "text/plain": [
       "(193, 193)"
      ]
     },
     "execution_count": 72,
     "metadata": {},
     "output_type": "execute_result"
    }
   ],
   "source": [
    "cm_p.shape"
   ]
  },
  {
   "cell_type": "code",
   "execution_count": 75,
   "id": "1d49b58b-b21b-4e25-a4b1-930adec49ab2",
   "metadata": {},
   "outputs": [
    {
     "data": {
      "text/plain": [
       "array([ True, False,  True,  True,  True,  True,  True,  True,  True,\n",
       "        True,  True,  True,  True,  True,  True,  True,  True,  True,\n",
       "        True,  True,  True,  True,  True,  True,  True,  True,  True,\n",
       "        True,  True,  True,  True,  True, False,  True,  True, False,\n",
       "        True,  True,  True,  True,  True,  True,  True,  True,  True,\n",
       "        True,  True,  True, False, False,  True,  True,  True,  True,\n",
       "        True,  True,  True,  True,  True,  True,  True,  True,  True,\n",
       "        True,  True,  True,  True,  True,  True,  True,  True,  True,\n",
       "        True, False, False,  True,  True,  True, False,  True,  True,\n",
       "       False,  True,  True,  True,  True,  True,  True,  True,  True,\n",
       "        True,  True,  True,  True,  True,  True,  True,  True,  True,\n",
       "        True,  True,  True,  True,  True,  True,  True, False,  True,\n",
       "        True,  True, False,  True,  True,  True,  True,  True,  True,\n",
       "        True,  True,  True,  True,  True,  True,  True, False,  True,\n",
       "        True,  True,  True,  True,  True,  True,  True,  True,  True,\n",
       "        True,  True,  True,  True, False,  True,  True,  True,  True,\n",
       "        True,  True,  True,  True,  True,  True,  True,  True,  True,\n",
       "        True,  True,  True,  True,  True,  True,  True,  True, False,\n",
       "        True,  True,  True,  True, False,  True, False,  True,  True,\n",
       "        True,  True, False, False,  True, False,  True,  True, False,\n",
       "        True,  True,  True,  True,  True,  True,  True,  True,  True,\n",
       "        True,  True,  True,  True])"
      ]
     },
     "execution_count": 75,
     "metadata": {},
     "output_type": "execute_result"
    }
   ],
   "source": [
    "(cm_p==1).sum(axis=1) == (cm_p==1).sum(axis=0)"
   ]
  },
  {
   "cell_type": "code",
   "execution_count": 89,
   "id": "6b7aa7d1-46a5-4f85-bb99-d0e2683d0446",
   "metadata": {},
   "outputs": [],
   "source": [
    "# cm_p[~np.isnan(np.where(cm_p==1, np.nan, cm_p)).any(axis=1),\n",
    "#     ~np.isnan(np.where(cm_p==1, np.nan, cm_p)).any(axis=0)].shape"
   ]
  },
  {
   "cell_type": "code",
   "execution_count": null,
   "id": "3ce7dc90-c4ed-431b-b87f-852df5b59cf0",
   "metadata": {},
   "outputs": [],
   "source": [
    "plt.figure(figsize=(30,30))\n",
    "sns.heatmap(cm_p,\n",
    "            square=True,\n",
    "#             annot=cm_fr,fmt=''\n",
    "           )"
   ]
  },
  {
   "cell_type": "code",
   "execution_count": null,
   "id": "8d487615-7cf8-49e4-83ec-ecba15f56b6f",
   "metadata": {},
   "outputs": [],
   "source": [
    "# TOO BIG WITH TITLE\n",
    "# fig = sns.heatmap(cm_p,\n",
    "#             annot=cm_fr,\n",
    "#                   fmt=\"\",\n",
    "#             xticklabels = ax_labels,\n",
    "#             linewidths = 2,\n",
    "#                   square=True,\n",
    "#             yticklabels= ax_labels,\n",
    "#            );\n",
    "# # plt.savefig(f'/workspace/product_classifier/cm_on_{test_set}_{trained_model_name}.png', bbox_inches='tight')"
   ]
  },
  {
   "cell_type": "markdown",
   "id": "streaming-morgan",
   "metadata": {},
   "source": [
    "# PREDICT"
   ]
  },
  {
   "cell_type": "code",
   "execution_count": null,
   "id": "global-furniture",
   "metadata": {},
   "outputs": [],
   "source": [
    "# predictions = probability_model.predict(data_flow['test'])"
   ]
  },
  {
   "cell_type": "code",
   "execution_count": null,
   "id": "supreme-supplement",
   "metadata": {},
   "outputs": [],
   "source": [
    "# predictions = model.predict(data_flow['test'])"
   ]
  },
  {
   "cell_type": "code",
   "execution_count": 82,
   "id": "d332705b-be80-4461-ae6c-05d4feed60be",
   "metadata": {},
   "outputs": [
    {
     "data": {
      "text/plain": [
       "698"
      ]
     },
     "execution_count": 82,
     "metadata": {},
     "output_type": "execute_result"
    }
   ],
   "source": []
  },
  {
   "cell_type": "code",
   "execution_count": 83,
   "id": "coral-israeli",
   "metadata": {},
   "outputs": [],
   "source": [
    "test_images_labels = list(islice(data_flow['test'], data_flow['test'].n))\n",
    "test_images , labels = list(zip(*test_images_labels))\n",
    "predictions = model.predict(x for x in test_images)"
   ]
  },
  {
   "cell_type": "markdown",
   "id": "missing-limitation",
   "metadata": {},
   "source": [
    "## FUNCTIONS "
   ]
  },
  {
   "cell_type": "code",
   "execution_count": 108,
   "id": "typical-stress",
   "metadata": {
    "tags": []
   },
   "outputs": [],
   "source": [
    "def plot_image(predictions_array, true_label, img, id_=''):\n",
    "    true_label = np.argmax(true_label)\n",
    "    predicted_label = np.argmax(predictions_array)\n",
    "    \n",
    "    plt.grid(False)\n",
    "    plt.xticks([])\n",
    "    plt.yticks([])\n",
    "    img = np.squeeze(img)\n",
    "    img = img.astype(np.uint8)\n",
    "    plt.imshow(img, cmap=plt.cm.binary)\n",
    "\n",
    "    if predicted_label == true_label:\n",
    "        color = 'blue'\n",
    "    else:\n",
    "        color = 'red'\n",
    "\n",
    "    plt.xlabel(\"p: {} t: $\\\\bf{{{:4.0f}}}\\\\%$ \\nVMS:({})-{}\".format(\n",
    "                                                    joind_train_info_dict['vms'][predicted_label],\n",
    "                                                    100*np.max(predictions_array),\n",
    "                                                    joind_train_info_dict['vms'][true_label],\n",
    "                                                    id_),\n",
    "                                color=color,\n",
    "#                                 fontweight='bold',\n",
    "                                fontsize=18.0)\n",
    "\n",
    "def plot_value_array(predictions_array, true_label, get_n_first):\n",
    "    true_label = np.argmax(true_label)\n",
    "    \n",
    "    args = np.argsort(predictions_array)[-1*get_n_first:][::-1]\n",
    "    predictions_array_subset = predictions_array[args]\n",
    "    xaxis_label = [joind_train_info_dict['vms'].get(x) for x in args]\n",
    "#     true_label = true_label[i]\n",
    "    \n",
    "    plt.grid(False)\n",
    "    plt.xticks(range(data_flow['test'].n))\n",
    "    plt.xticks(rotation=90)\n",
    "    plt.yticks([])\n",
    "    thisplot = plt.bar(xaxis_label,\n",
    "                       predictions_array_subset,\n",
    "                       color=\"#777777\")\n",
    "    \n",
    "    ax = plt.gca()\n",
    "    ax.set_yscale('log')\n",
    "    #     plt.ylim([0, 1])\n",
    "    predicted_label = np.argmax(predictions_array_subset)\n",
    "    thisplot[predicted_label].set_color('red')\n",
    "    if true_label in args:\n",
    "        thisplot[np.argwhere(args==true_label).item()].set_color('blue')\n",
    "    return predictions_array_subset \n",
    "\n",
    "\n",
    "def add_text(ax, text, fontsize, bbox='red_box', rotation=0):\n",
    "    xlim = ax.get_xlim()\n",
    "    xrange = xlim[1] - xlim[0]\n",
    "    ylim = ax.get_ylim()\n",
    "    yrange = ylim[1] - ylim[0]\n",
    "    \n",
    "    if bbox == 'red_box':\n",
    "        bBox = dict(facecolor='red', alpha= 0.5, pad= 20)\n",
    "    elif bbox == 'blue_arrow':\n",
    "        bBox = dict(boxstyle=\"rarrow,pad=0.3\", fc=\"cyan\", ec=\"b\", lw=2 ,alpha =.5)\n",
    "    ax.text(xrange/3,\n",
    "            yrange/2,\n",
    "            text,\n",
    "            style='italic',\n",
    "            bbox= bBox,\n",
    "           fontsize = fontsize,\n",
    "           rotation = rotation\n",
    "           )\n",
    "#     if annotate:\n",
    "#         ax.annotate('',\n",
    "#                     xy=(xrange/2,\n",
    "#                         ylim[0]),\n",
    "#                     xytext=(xrange/2, (5.8*yrange)/6),\n",
    "#                 arrowprops=dict(facecolor='black', shrink=0.05 , alpha=0.1))\n",
    "\n"
   ]
  },
  {
   "cell_type": "code",
   "execution_count": 85,
   "id": "practical-intent",
   "metadata": {},
   "outputs": [],
   "source": [
    "joind_train_info = joind_train_info.reset_index()"
   ]
  },
  {
   "cell_type": "code",
   "execution_count": 109,
   "id": "muslim-contents",
   "metadata": {},
   "outputs": [],
   "source": [
    "def wrong_guess_info(wrong_guesses):\n",
    "    \n",
    "    m = pd.merge(left=joind_train_info, left_on='code',\n",
    "            right=wrong_guesses, right_on='Y_true', how='right')\n",
    "    m = m.rename({'counts': 'num_in_train__(true_label)'}, axis=1)\n",
    "    m.drop('code', axis=1, inplace=True)\n",
    "\n",
    "    mm = pd.merge(left=joind_train_info, left_on='code',\n",
    "            right=m, right_on='preds', how='right')\n",
    "    mm = mm.rename({'count': 'num_in_train__(wrong_guess)'}, axis=1)\n",
    "    return mm"
   ]
  },
  {
   "cell_type": "code",
   "execution_count": 106,
   "id": "fifty-usage",
   "metadata": {},
   "outputs": [
    {
     "data": {
      "text/html": [
       "<div>\n",
       "<style scoped>\n",
       "    .dataframe tbody tr th:only-of-type {\n",
       "        vertical-align: middle;\n",
       "    }\n",
       "\n",
       "    .dataframe tbody tr th {\n",
       "        vertical-align: top;\n",
       "    }\n",
       "\n",
       "    .dataframe thead th {\n",
       "        text-align: right;\n",
       "    }\n",
       "</style>\n",
       "<table border=\"1\" class=\"dataframe\">\n",
       "  <thead>\n",
       "    <tr style=\"text-align: right;\">\n",
       "      <th></th>\n",
       "      <th>code</th>\n",
       "      <th>count_x</th>\n",
       "      <th>vms_x</th>\n",
       "      <th>count_y</th>\n",
       "      <th>vms_y</th>\n",
       "      <th>Y_true</th>\n",
       "      <th>preds</th>\n",
       "      <th>vms_true</th>\n",
       "      <th>vms_pred</th>\n",
       "    </tr>\n",
       "  </thead>\n",
       "  <tbody>\n",
       "    <tr>\n",
       "      <th>0</th>\n",
       "      <td>122</td>\n",
       "      <td>66</td>\n",
       "      <td>283215</td>\n",
       "      <td>44</td>\n",
       "      <td>106673</td>\n",
       "      <td>4</td>\n",
       "      <td>122</td>\n",
       "      <td>106672</td>\n",
       "      <td>283212</td>\n",
       "    </tr>\n",
       "    <tr>\n",
       "      <th>1</th>\n",
       "      <td>81</td>\n",
       "      <td>63</td>\n",
       "      <td>235797</td>\n",
       "      <td>44</td>\n",
       "      <td>106673</td>\n",
       "      <td>4</td>\n",
       "      <td>81</td>\n",
       "      <td>106672</td>\n",
       "      <td>234285</td>\n",
       "    </tr>\n",
       "    <tr>\n",
       "      <th>2</th>\n",
       "      <td>140</td>\n",
       "      <td>72</td>\n",
       "      <td>301106</td>\n",
       "      <td>76</td>\n",
       "      <td>108692</td>\n",
       "      <td>6</td>\n",
       "      <td>140</td>\n",
       "      <td>106813</td>\n",
       "      <td>301105</td>\n",
       "    </tr>\n",
       "    <tr>\n",
       "      <th>3</th>\n",
       "      <td>78</td>\n",
       "      <td>74</td>\n",
       "      <td>234283</td>\n",
       "      <td>64</td>\n",
       "      <td>171721</td>\n",
       "      <td>21</td>\n",
       "      <td>78</td>\n",
       "      <td>164323</td>\n",
       "      <td>233231</td>\n",
       "    </tr>\n",
       "    <tr>\n",
       "      <th>4</th>\n",
       "      <td>79</td>\n",
       "      <td>98</td>\n",
       "      <td>234284</td>\n",
       "      <td>77</td>\n",
       "      <td>171722</td>\n",
       "      <td>22</td>\n",
       "      <td>79</td>\n",
       "      <td>171721</td>\n",
       "      <td>234283</td>\n",
       "    </tr>\n",
       "    <tr>\n",
       "      <th>...</th>\n",
       "      <td>...</td>\n",
       "      <td>...</td>\n",
       "      <td>...</td>\n",
       "      <td>...</td>\n",
       "      <td>...</td>\n",
       "      <td>...</td>\n",
       "      <td>...</td>\n",
       "      <td>...</td>\n",
       "      <td>...</td>\n",
       "    </tr>\n",
       "    <tr>\n",
       "      <th>70</th>\n",
       "      <td>85</td>\n",
       "      <td>140</td>\n",
       "      <td>244920</td>\n",
       "      <td>52</td>\n",
       "      <td>48676</td>\n",
       "      <td>221</td>\n",
       "      <td>85</td>\n",
       "      <td>48675</td>\n",
       "      <td>244410</td>\n",
       "    </tr>\n",
       "    <tr>\n",
       "      <th>71</th>\n",
       "      <td>85</td>\n",
       "      <td>140</td>\n",
       "      <td>244920</td>\n",
       "      <td>52</td>\n",
       "      <td>48676</td>\n",
       "      <td>221</td>\n",
       "      <td>85</td>\n",
       "      <td>48675</td>\n",
       "      <td>244410</td>\n",
       "    </tr>\n",
       "    <tr>\n",
       "      <th>72</th>\n",
       "      <td>122</td>\n",
       "      <td>66</td>\n",
       "      <td>283215</td>\n",
       "      <td>53</td>\n",
       "      <td>49092</td>\n",
       "      <td>228</td>\n",
       "      <td>122</td>\n",
       "      <td>48684</td>\n",
       "      <td>283212</td>\n",
       "    </tr>\n",
       "    <tr>\n",
       "      <th>73</th>\n",
       "      <td>140</td>\n",
       "      <td>72</td>\n",
       "      <td>301106</td>\n",
       "      <td>30</td>\n",
       "      <td>49095</td>\n",
       "      <td>231</td>\n",
       "      <td>140</td>\n",
       "      <td>49094</td>\n",
       "      <td>301105</td>\n",
       "    </tr>\n",
       "    <tr>\n",
       "      <th>74</th>\n",
       "      <td>114</td>\n",
       "      <td>25</td>\n",
       "      <td>276017</td>\n",
       "      <td>12</td>\n",
       "      <td>49096</td>\n",
       "      <td>232</td>\n",
       "      <td>114</td>\n",
       "      <td>49095</td>\n",
       "      <td>274518</td>\n",
       "    </tr>\n",
       "  </tbody>\n",
       "</table>\n",
       "<p>75 rows × 9 columns</p>\n",
       "</div>"
      ],
      "text/plain": [
       "    code  count_x   vms_x  count_y   vms_y  Y_true  preds  vms_true  vms_pred\n",
       "0    122       66  283215       44  106673       4    122    106672    283212\n",
       "1     81       63  235797       44  106673       4     81    106672    234285\n",
       "2    140       72  301106       76  108692       6    140    106813    301105\n",
       "3     78       74  234283       64  171721      21     78    164323    233231\n",
       "4     79       98  234284       77  171722      22     79    171721    234283\n",
       "..   ...      ...     ...      ...     ...     ...    ...       ...       ...\n",
       "70    85      140  244920       52   48676     221     85     48675    244410\n",
       "71    85      140  244920       52   48676     221     85     48675    244410\n",
       "72   122       66  283215       53   49092     228    122     48684    283212\n",
       "73   140       72  301106       30   49095     231    140     49094    301105\n",
       "74   114       25  276017       12   49096     232    114     49095    274518\n",
       "\n",
       "[75 rows x 9 columns]"
      ]
     },
     "execution_count": 106,
     "metadata": {},
     "output_type": "execute_result"
    }
   ],
   "source": [
    "wrong_guess_info_df = wrong_guess_info(wrong_guesses)\n",
    "wrong_guess_info_df"
   ]
  },
  {
   "cell_type": "markdown",
   "id": "saved-monthly",
   "metadata": {},
   "source": [
    "# plot wrong ones "
   ]
  },
  {
   "cell_type": "code",
   "execution_count": null,
   "id": "caring-amateur",
   "metadata": {},
   "outputs": [],
   "source": [
    "num_rows = wrong_guess_info_df.shape[0]//2+1\n",
    "num_cols = 2\n",
    "num_images = num_rows*num_cols\n",
    "fig = plt.figure(figsize=(5*2*num_cols, 4*num_rows))\n",
    "y = 0\n",
    "j= 0\n",
    "for i in range(data_flow['test'].n):\n",
    "    if np.argmax(predictions[i]) == np.argmax(labels[i]):\n",
    "        continue\n",
    "    j += 1\n",
    "    plt.subplot(num_rows, 2*num_cols, 2*y+1)\n",
    "    plot_image(predictions[i], labels[i], test_images[i], i)\n",
    "    plt.subplot(num_rows, 2*num_cols, 2*y+2)\n",
    "    plot_value_array(predictions[i], labels[i], 10)\n",
    "    y+=1\n",
    "plt.tight_layout()\n",
    "plt.show()"
   ]
  },
  {
   "cell_type": "markdown",
   "id": "adapted-stadium",
   "metadata": {},
   "source": [
    "# PLOT For ALL "
   ]
  },
  {
   "cell_type": "code",
   "execution_count": null,
   "id": "entire-thailand",
   "metadata": {},
   "outputs": [],
   "source": [
    "# num_rows = 10\n",
    "# num_cols = 3\n",
    "# num_images = num_rows*num_cols\n",
    "# fig = plt.figure(figsize=(5*2*num_cols, 4*num_rows))\n",
    "# for i in range(min(num_images, num_samples)):\n",
    "#     plt.subplot(num_rows, 2*num_cols, 2*i+1)\n",
    "#     plot_image(predictions[i], labels[i], test_images[i])\n",
    "#     plt.subplot(num_rows, 2*num_cols, 2*i+2)\n",
    "#     plot_value_array(predictions[i], labels[i], 10)\n",
    "# plt.tight_layout()\n",
    "# plt.show()"
   ]
  },
  {
   "cell_type": "markdown",
   "id": "insured-expansion",
   "metadata": {
    "tags": []
   },
   "source": [
    "# SINGLE IMAGE plot first N guesses"
   ]
  },
  {
   "cell_type": "markdown",
   "id": "constitutional-foster",
   "metadata": {},
   "source": [
    "### from directory"
   ]
  },
  {
   "cell_type": "code",
   "execution_count": 32,
   "id": "empirical-optimum",
   "metadata": {},
   "outputs": [],
   "source": [
    "vms = 12548"
   ]
  },
  {
   "cell_type": "code",
   "execution_count": 33,
   "id": "congressional-google",
   "metadata": {},
   "outputs": [
    {
     "name": "stdout",
     "output_type": "stream",
     "text": [
      "tmp67pcm7y2.jpg  tmpezugvz57.jpg  tmprv8dp5e7.jpg  tmpyjiuopen.jpg\n",
      "tmpa6b1p49c.jpg  tmppn18rcp5.jpg  tmpxfcxqt1l.jpg\n"
     ]
    }
   ],
   "source": [
    "!ls /workspace/detect-me/product_classifier/data/milk/test/$vms/"
   ]
  },
  {
   "cell_type": "code",
   "execution_count": 34,
   "id": "editorial-summit",
   "metadata": {},
   "outputs": [],
   "source": [
    "# Image.open('/workspace/product_classifier/data/milk/train-val/12548/4.jpg')"
   ]
  },
  {
   "cell_type": "code",
   "execution_count": 35,
   "id": "funky-talent",
   "metadata": {},
   "outputs": [
    {
     "data": {
      "text/plain": [
       "<matplotlib.image.AxesImage at 0x7f38dc6cfcd0>"
      ]
     },
     "execution_count": 35,
     "metadata": {},
     "output_type": "execute_result"
    },
    {
     "data": {
      "image/png": "[encoded data removed]",
      "text/plain": [
       "<Figure size 432x288 with 1 Axes>"
      ]
     },
     "metadata": {
      "needs_background": "light"
     },
     "output_type": "display_data"
    }
   ],
   "source": [
    "# image_name = 'tmp65dgnof7.jpg'\n",
    "# img_path = f'/workspace/product_classifier/data/milk/test/{vms}/{image_name}'\n",
    "\n",
    "# img_path = '/workspace/product_classifier/data/random/dogh.jpg'\n",
    "# img_path = '/workspace/product_classifier/data/milk/test/tmp67pcm7y2.jpg'\n",
    "img_path = '/workspace/detect-me/product_classifier/data/milk/test/12548/tmprv8dp5e7.jpg'\n",
    "vitro_image_test = image.load_img(img_path,\n",
    "                                  target_size=(224, 224),\n",
    "#                                  interpolation='bilinear'\n",
    "                                 )\n",
    "\n",
    "vitro_image_test = image.img_to_array(vitro_image_test)\n",
    "vitro_image_test = np.expand_dims(vitro_image_test,\n",
    "                                  axis=0)\n",
    "\n",
    "imgrgb = vitro_image_test[0,...].astype(np.uint8)\n",
    "\n",
    "plt.imshow(imgrgb)"
   ]
  },
  {
   "cell_type": "code",
   "execution_count": 115,
   "id": "straight-demonstration",
   "metadata": {},
   "outputs": [],
   "source": [
    "imgrgb = np.fliplr(imgrgb)"
   ]
  },
  {
   "cell_type": "code",
   "execution_count": 41,
   "id": "99099552-97dc-44ba-bfc1-17e602ed7839",
   "metadata": {},
   "outputs": [],
   "source": [
    "oo = model.predict(vitro_image_test)"
   ]
  },
  {
   "cell_type": "code",
   "execution_count": 42,
   "id": "794eca2f-2710-499c-a389-0d654463cb51",
   "metadata": {},
   "outputs": [],
   "source": [
    "ss = np.argsort(oo)[::-1][:5]"
   ]
  },
  {
   "cell_type": "code",
   "execution_count": 59,
   "id": "27dfeee0-031e-461b-8ba2-105d736a0aa0",
   "metadata": {},
   "outputs": [],
   "source": [
    "first_five = csv.set_index('code').loc[ss.flatten()[:5]]"
   ]
  },
  {
   "cell_type": "code",
   "execution_count": null,
   "id": "ec1e0e96-2290-4f22-bbb0-61ee6c1f9bc3",
   "metadata": {},
   "outputs": [],
   "source": [
    "first_five"
   ]
  },
  {
   "cell_type": "code",
   "execution_count": 57,
   "id": "18d6a775-ab51-4184-9f34-b2e523571c8b",
   "metadata": {},
   "outputs": [],
   "source": [
    "category_csv = pd.read_csv('/workspace/detect-me/product_classifier/data/by_category/secCat_codes.csv')"
   ]
  },
  {
   "cell_type": "code",
   "execution_count": 71,
   "id": "6eb2902b-3977-4416-b7e9-2b1cb90c43f8",
   "metadata": {},
   "outputs": [
    {
     "data": {
      "text/html": [
       "<div>\n",
       "<style scoped>\n",
       "    .dataframe tbody tr th:only-of-type {\n",
       "        vertical-align: middle;\n",
       "    }\n",
       "\n",
       "    .dataframe tbody tr th {\n",
       "        vertical-align: top;\n",
       "    }\n",
       "\n",
       "    .dataframe thead th {\n",
       "        text-align: right;\n",
       "    }\n",
       "</style>\n",
       "<table border=\"1\" class=\"dataframe\">\n",
       "  <thead>\n",
       "    <tr style=\"text-align: right;\">\n",
       "      <th></th>\n",
       "      <th>Unnamed: 0</th>\n",
       "      <th>SecCat</th>\n",
       "      <th>SecCat_codes</th>\n",
       "    </tr>\n",
       "  </thead>\n",
       "  <tbody>\n",
       "    <tr>\n",
       "      <th>7</th>\n",
       "      <td>70</td>\n",
       "      <td>افزودنی های شیرینی پزی</td>\n",
       "      <td>13</td>\n",
       "    </tr>\n",
       "    <tr>\n",
       "      <th>58</th>\n",
       "      <td>661</td>\n",
       "      <td>انواع شیرینی</td>\n",
       "      <td>15</td>\n",
       "    </tr>\n",
       "    <tr>\n",
       "      <th>76</th>\n",
       "      <td>955</td>\n",
       "      <td>شیر</td>\n",
       "      <td>59</td>\n",
       "    </tr>\n",
       "    <tr>\n",
       "      <th>99</th>\n",
       "      <td>3406</td>\n",
       "      <td>حلوا ارده و شیره</td>\n",
       "      <td>31</td>\n",
       "    </tr>\n",
       "  </tbody>\n",
       "</table>\n",
       "</div>"
      ],
      "text/plain": [
       "    Unnamed: 0                  SecCat  SecCat_codes\n",
       "7           70  افزودنی های شیرینی پزی            13\n",
       "58         661            انواع شیرینی            15\n",
       "76         955                     شیر            59\n",
       "99        3406        حلوا ارده و شیره            31"
      ]
     },
     "execution_count": 71,
     "metadata": {},
     "output_type": "execute_result"
    }
   ],
   "source": [
    "category_csv[category_csv.SecCat.str.contains('شیر')]"
   ]
  },
  {
   "cell_type": "code",
   "execution_count": 67,
   "id": "e9365da7-232d-46cd-b86c-f0d98fcdd72a",
   "metadata": {},
   "outputs": [
    {
     "data": {
      "text/html": [
       "<div>\n",
       "<style scoped>\n",
       "    .dataframe tbody tr th:only-of-type {\n",
       "        vertical-align: middle;\n",
       "    }\n",
       "\n",
       "    .dataframe tbody tr th {\n",
       "        vertical-align: top;\n",
       "    }\n",
       "\n",
       "    .dataframe thead th {\n",
       "        text-align: right;\n",
       "    }\n",
       "</style>\n",
       "<table border=\"1\" class=\"dataframe\">\n",
       "  <thead>\n",
       "    <tr style=\"text-align: right;\">\n",
       "      <th></th>\n",
       "      <th>Unnamed: 0</th>\n",
       "      <th>SecCat</th>\n",
       "      <th>SecCat_codes</th>\n",
       "    </tr>\n",
       "  </thead>\n",
       "  <tbody>\n",
       "    <tr>\n",
       "      <th>36</th>\n",
       "      <td>316</td>\n",
       "      <td>بهداشت و مراقبت بدن</td>\n",
       "      <td>23</td>\n",
       "    </tr>\n",
       "  </tbody>\n",
       "</table>\n",
       "</div>"
      ],
      "text/plain": [
       "    Unnamed: 0               SecCat  SecCat_codes\n",
       "36         316  بهداشت و مراقبت بدن            23"
      ]
     },
     "execution_count": 67,
     "metadata": {},
     "output_type": "execute_result"
    }
   ],
   "source": [
    "category_csv[category_csv.SecCat_codes == 23]"
   ]
  },
  {
   "cell_type": "code",
   "execution_count": 54,
   "id": "70a53edb-4106-43df-aca2-0952c243fcbe",
   "metadata": {},
   "outputs": [
    {
     "data": {
      "text/html": [
       "<div>\n",
       "<style scoped>\n",
       "    .dataframe tbody tr th:only-of-type {\n",
       "        vertical-align: middle;\n",
       "    }\n",
       "\n",
       "    .dataframe tbody tr th {\n",
       "        vertical-align: top;\n",
       "    }\n",
       "\n",
       "    .dataframe thead th {\n",
       "        text-align: right;\n",
       "    }\n",
       "</style>\n",
       "<table border=\"1\" class=\"dataframe\">\n",
       "  <thead>\n",
       "    <tr style=\"text-align: right;\">\n",
       "      <th></th>\n",
       "      <th>vms</th>\n",
       "    </tr>\n",
       "    <tr>\n",
       "      <th>code</th>\n",
       "      <th></th>\n",
       "    </tr>\n",
       "  </thead>\n",
       "  <tbody>\n",
       "    <tr>\n",
       "      <th>23</th>\n",
       "      <td>46</td>\n",
       "    </tr>\n",
       "    <tr>\n",
       "      <th>43</th>\n",
       "      <td>78</td>\n",
       "    </tr>\n",
       "    <tr>\n",
       "      <th>30</th>\n",
       "      <td>58</td>\n",
       "    </tr>\n",
       "    <tr>\n",
       "      <th>4</th>\n",
       "      <td>107</td>\n",
       "    </tr>\n",
       "    <tr>\n",
       "      <th>36</th>\n",
       "      <td>65</td>\n",
       "    </tr>\n",
       "  </tbody>\n",
       "</table>\n",
       "</div>"
      ],
      "text/plain": [
       "      vms\n",
       "code     \n",
       "23     46\n",
       "43     78\n",
       "30     58\n",
       "4     107\n",
       "36     65"
      ]
     },
     "execution_count": 54,
     "metadata": {},
     "output_type": "execute_result"
    }
   ],
   "source": []
  },
  {
   "cell_type": "code",
   "execution_count": 36,
   "id": "actual-start",
   "metadata": {},
   "outputs": [],
   "source": [
    "# imG = test_images[29]\n",
    "# imgrgb = imG[0,...].astype(np.uint8)\n",
    "# plt.imshow(imgrgb)\n",
    "\n",
    "vitro_image_test = np.expand_dims(imgrgb,\n",
    "                                  axis=0)"
   ]
  },
  {
   "cell_type": "code",
   "execution_count": 38,
   "id": "c84c7a4b-035e-4bac-9606-a868a96ec6d0",
   "metadata": {},
   "outputs": [],
   "source": [
    "def add_text(ax, text, fontsize, bbox='red_box', rotation=0):\n",
    "    xlim = ax.get_xlim()\n",
    "    xrange = xlim[1] - xlim[0]\n",
    "    ylim = ax.get_ylim()\n",
    "    yrange = ylim[1] - ylim[0]\n",
    "    \n",
    "    if bbox == 'red_box':\n",
    "        bBox = dict(facecolor='red', alpha= 0.5, pad= 20)\n",
    "    elif bbox == 'blue_arrow':\n",
    "        bBox = dict(boxstyle=\"rarrow,pad=0.3\", fc=\"cyan\", ec=\"b\", lw=2 ,alpha =.5)\n",
    "    ax.text(xrange/3,\n",
    "            yrange/2,\n",
    "            text,\n",
    "            style='italic',\n",
    "            bbox= bBox,\n",
    "           fontsize = fontsize,\n",
    "           rotation = rotation\n",
    "           )\n",
    "\n",
    "def plot_first_guess(model , image , n=5):\n",
    "#     first_n_preds_N = 5\n",
    "    image_c = image.copy()\n",
    "    predictions_output = model.predict(image_c)\n",
    "    predictions_output = np.squeeze(predictions_output)\n",
    "    ss = np.argsort(predictions_output)[::-1][:n]\n",
    "\n",
    "    first_n_preds = zip(predictions_output[ss],\n",
    "                        ss,\n",
    "                        [joind_train_info_dict.get(x) for x in ss])\n",
    "\n",
    "    first_n_preds = list(first_n_preds)\n",
    "\n",
    "\n",
    "    fig, axes = plt.subplots(n+1, # +1   first row true label\n",
    "                             5,\n",
    "                             figsize=(20, 30))\n",
    "\n",
    "    [ax.axis('off') for ax in axes.flatten()]\n",
    "    # row 0 \n",
    "    imgrgb = image_c[0,...]\n",
    "    axes[0,0].imshow(imgrgb.astype('uint8'))\n",
    "    axes[0,1].imshow(preprocess_input(imgrgb))\n",
    "#     axes[0,1].imshow(resnet50.preprocess_input(imgrgb))\n",
    "#     axes[0,1].imshow(resnet_v2.preprocess_input(imgrgb))\n",
    "    axes[0,2].imshow(preprocess_input(preprocess_input(imgrgb)))\n",
    "    add_text(axes[0,3], 'VMS::', 10, rotation=0)\n",
    "    add_text(axes[0,4], 'Predictions %', 20,bbox ='blue_arrow', rotation=-90)\n",
    "\n",
    "    for i , (prob, label , vms) in enumerate(first_n_preds):\n",
    "        plot_with_vms(vms, axes[i+1,:4])\n",
    "        add_text(axes[i+1,4], f'{prob:.4%}\\nvms {vms}', 22)\n",
    "\n",
    "    plt.tight_layout()\n",
    "    plt.show()\n",
    "    \n",
    "def plot_with_vms(vms, axes):\n",
    "    milk_data_dir = '/workspace/detect-me/product_classifier/data/milk/'\n",
    "    num = 4\n",
    "    ncols = 4\n",
    "    plt.figure(figsize=(10,10))\n",
    "    path = milk_data_dir + 'train-val'\n",
    "    for dirs in os.listdir(path):\n",
    "        print(dirs)\n",
    "        if dirs.endswith(str(vms)):\n",
    "            p = os.path.join(path, dirs)\n",
    "#             print(p)\n",
    "            break\n",
    "            \n",
    "    list_images = list(pathlib.Path(p).rglob('*.jpg'))\n",
    "    \n",
    "    zip_axes = zip(np.random.choice(list_images, num), axes)\n",
    "    for i, (image, ax) in enumerate(zip_axes):\n",
    "        \n",
    "        rows = math.ceil(4/ncols)\n",
    "#         plt.subplot(rows,ncols,i+1)\n",
    "            \n",
    "#     plt.xticks([])\n",
    "#         plt.yticks([])\n",
    "#         plt.grid(False)\n",
    "        print(image)\n",
    "        image , label = np.array(Image.open(image)), vms\n",
    "        image = image.astype(np.uint8)\n",
    "        ax.axis('off')\n",
    "        \n",
    "        ax.imshow(image[...])\n",
    "#         plt.imshow(image[...],\n",
    "#     #                cmap=plt.cm.binary\n",
    "#                   )\n",
    "        "
   ]
  },
  {
   "cell_type": "code",
   "execution_count": 39,
   "id": "sticky-chassis",
   "metadata": {},
   "outputs": [
    {
     "ename": "NameError",
     "evalue": "name 'joind_train_info_dict' is not defined",
     "output_type": "error",
     "traceback": [
      "\u001b[0;31m---------------------------------------------------------------------------\u001b[0m",
      "\u001b[0;31mNameError\u001b[0m                                 Traceback (most recent call last)",
      "\u001b[0;32m<ipython-input-39-5a72e2f48ff7>\u001b[0m in \u001b[0;36m<module>\u001b[0;34m\u001b[0m\n\u001b[0;32m----> 1\u001b[0;31m \u001b[0mplot_first_guess\u001b[0m\u001b[0;34m(\u001b[0m\u001b[0mmodel\u001b[0m\u001b[0;34m,\u001b[0m \u001b[0mvitro_image_test\u001b[0m\u001b[0;34m,\u001b[0m \u001b[0;36m6\u001b[0m\u001b[0;34m)\u001b[0m\u001b[0;34m\u001b[0m\u001b[0;34m\u001b[0m\u001b[0m\n\u001b[0m",
      "\u001b[0;32m<ipython-input-38-d5a52de6f7f1>\u001b[0m in \u001b[0;36mplot_first_guess\u001b[0;34m(model, image, n)\u001b[0m\n\u001b[1;32m     27\u001b[0m     first_n_preds = zip(predictions_output[ss],\n\u001b[1;32m     28\u001b[0m                         \u001b[0mss\u001b[0m\u001b[0;34m,\u001b[0m\u001b[0;34m\u001b[0m\u001b[0;34m\u001b[0m\u001b[0m\n\u001b[0;32m---> 29\u001b[0;31m                         [joind_train_info_dict.get(x) for x in ss])\n\u001b[0m\u001b[1;32m     30\u001b[0m \u001b[0;34m\u001b[0m\u001b[0m\n\u001b[1;32m     31\u001b[0m     \u001b[0mfirst_n_preds\u001b[0m \u001b[0;34m=\u001b[0m \u001b[0mlist\u001b[0m\u001b[0;34m(\u001b[0m\u001b[0mfirst_n_preds\u001b[0m\u001b[0;34m)\u001b[0m\u001b[0;34m\u001b[0m\u001b[0;34m\u001b[0m\u001b[0m\n",
      "\u001b[0;32m<ipython-input-38-d5a52de6f7f1>\u001b[0m in \u001b[0;36m<listcomp>\u001b[0;34m(.0)\u001b[0m\n\u001b[1;32m     27\u001b[0m     first_n_preds = zip(predictions_output[ss],\n\u001b[1;32m     28\u001b[0m                         \u001b[0mss\u001b[0m\u001b[0;34m,\u001b[0m\u001b[0;34m\u001b[0m\u001b[0;34m\u001b[0m\u001b[0m\n\u001b[0;32m---> 29\u001b[0;31m                         [joind_train_info_dict.get(x) for x in ss])\n\u001b[0m\u001b[1;32m     30\u001b[0m \u001b[0;34m\u001b[0m\u001b[0m\n\u001b[1;32m     31\u001b[0m     \u001b[0mfirst_n_preds\u001b[0m \u001b[0;34m=\u001b[0m \u001b[0mlist\u001b[0m\u001b[0;34m(\u001b[0m\u001b[0mfirst_n_preds\u001b[0m\u001b[0;34m)\u001b[0m\u001b[0;34m\u001b[0m\u001b[0;34m\u001b[0m\u001b[0m\n",
      "\u001b[0;31mNameError\u001b[0m: name 'joind_train_info_dict' is not defined"
     ]
    }
   ],
   "source": [
    "plot_first_guess(model, vitro_image_test, 6)"
   ]
  },
  {
   "cell_type": "code",
   "execution_count": null,
   "id": "2e12149e-a89e-4e7d-b8d4-e895809635a5",
   "metadata": {},
   "outputs": [],
   "source": []
  },
  {
   "cell_type": "code",
   "execution_count": null,
   "id": "bad15947-08f1-45df-ae3b-6daf552b5e66",
   "metadata": {},
   "outputs": [],
   "source": [
    "\n",
    "\n",
    "\n",
    "\n",
    "\n",
    "\n",
    "\n",
    "\n",
    "\n",
    "\n",
    "\n",
    "\n",
    "\n",
    "\n",
    "\n",
    "\n",
    "\n",
    "\n",
    "\n",
    "\n",
    "\n",
    "\n",
    "\n",
    "\n",
    "\n",
    "\n",
    "\n",
    "\n",
    "\n",
    "\n"
   ]
  },
  {
   "cell_type": "markdown",
   "id": "reliable-friendly",
   "metadata": {},
   "source": [
    "## PLOT images by vms in TRAIN-VAL TEST "
   ]
  },
  {
   "cell_type": "code",
   "execution_count": 6,
   "id": "increased-decision",
   "metadata": {},
   "outputs": [],
   "source": [
    "import PIL\n",
    "import shutil"
   ]
  },
  {
   "cell_type": "code",
   "execution_count": 7,
   "id": "protected-career",
   "metadata": {},
   "outputs": [],
   "source": [
    "train_folder = pathlib.Path('/workspace/detect-me/product_classifier/data/milk/train-val')\n",
    "test_folder = pathlib.Path('/workspace/detect-me/product_classifier/data/milk/test')"
   ]
  },
  {
   "cell_type": "code",
   "execution_count": 8,
   "id": "bored-curve",
   "metadata": {},
   "outputs": [],
   "source": [
    "def take_images_by_vms(vms, folder):\n",
    "    vms_folder=list(pathlib.Path(folder).glob(vms))[0]\n",
    "    print(vms_folder)\n",
    "    list_images = list(pathlib.Path(vms_folder).rglob('*.jpg'))\n",
    "    print(list_images[0])\n",
    "#     images_p = np.random.choice(list_images, number)\n",
    "    images = [(np.array(PIL.Image.open(image)),image) for image in list_images]\n",
    "    return images              \n",
    "        "
   ]
  },
  {
   "cell_type": "code",
   "execution_count": 9,
   "id": "cooperative-florida",
   "metadata": {},
   "outputs": [
    {
     "ename": "NameError",
     "evalue": "name 'wrong_guess_info_df' is not defined",
     "output_type": "error",
     "traceback": [
      "\u001b[0;31m---------------------------------------------------------------------------\u001b[0m",
      "\u001b[0;31mNameError\u001b[0m                                 Traceback (most recent call last)",
      "\u001b[0;32m<ipython-input-9-b683d817aefb>\u001b[0m in \u001b[0;36m<module>\u001b[0;34m\u001b[0m\n\u001b[0;32m----> 1\u001b[0;31m \u001b[0mwrong_guess_info_df\u001b[0m\u001b[0;34m.\u001b[0m\u001b[0mgroupby\u001b[0m\u001b[0;34m(\u001b[0m\u001b[0;34m[\u001b[0m\u001b[0;34m'vms_true'\u001b[0m\u001b[0;34m,\u001b[0m \u001b[0;34m'vms_pred'\u001b[0m\u001b[0;34m]\u001b[0m\u001b[0;34m)\u001b[0m\u001b[0;34m.\u001b[0m\u001b[0msize\u001b[0m\u001b[0;34m(\u001b[0m\u001b[0;34m)\u001b[0m\u001b[0;34m.\u001b[0m\u001b[0msort_values\u001b[0m\u001b[0;34m(\u001b[0m\u001b[0mascending\u001b[0m\u001b[0;34m=\u001b[0m\u001b[0;32mFalse\u001b[0m\u001b[0;34m)\u001b[0m\u001b[0;34m\u001b[0m\u001b[0;34m\u001b[0m\u001b[0m\n\u001b[0m",
      "\u001b[0;31mNameError\u001b[0m: name 'wrong_guess_info_df' is not defined"
     ]
    }
   ],
   "source": [
    "wrong_guess_info_df.groupby(['vms_true', 'vms_pred']).size().sort_values(ascending=False)"
   ]
  },
  {
   "cell_type": "code",
   "execution_count": 160,
   "id": "seven-paste",
   "metadata": {},
   "outputs": [
    {
     "data": {
      "text/html": [
       "<div>\n",
       "<style scoped>\n",
       "    .dataframe tbody tr th:only-of-type {\n",
       "        vertical-align: middle;\n",
       "    }\n",
       "\n",
       "    .dataframe tbody tr th {\n",
       "        vertical-align: top;\n",
       "    }\n",
       "\n",
       "    .dataframe thead th {\n",
       "        text-align: right;\n",
       "    }\n",
       "</style>\n",
       "<table border=\"1\" class=\"dataframe\">\n",
       "  <thead>\n",
       "    <tr style=\"text-align: right;\">\n",
       "      <th></th>\n",
       "      <th>code</th>\n",
       "      <th>vms_x</th>\n",
       "      <th>num_in_train__(wrong_guess)</th>\n",
       "      <th>vms_y</th>\n",
       "      <th>num_in_train__(true_label)</th>\n",
       "      <th>Y_true</th>\n",
       "      <th>preds</th>\n",
       "      <th>vms_true</th>\n",
       "      <th>vms_pred</th>\n",
       "    </tr>\n",
       "  </thead>\n",
       "  <tbody>\n",
       "    <tr>\n",
       "      <th>13</th>\n",
       "      <td>123</td>\n",
       "      <td>301105</td>\n",
       "      <td>162</td>\n",
       "      <td>276017</td>\n",
       "      <td>26</td>\n",
       "      <td>106</td>\n",
       "      <td>123</td>\n",
       "      <td>276017</td>\n",
       "      <td>301105</td>\n",
       "    </tr>\n",
       "    <tr>\n",
       "      <th>14</th>\n",
       "      <td>123</td>\n",
       "      <td>301105</td>\n",
       "      <td>162</td>\n",
       "      <td>276017</td>\n",
       "      <td>26</td>\n",
       "      <td>106</td>\n",
       "      <td>123</td>\n",
       "      <td>276017</td>\n",
       "      <td>301105</td>\n",
       "    </tr>\n",
       "  </tbody>\n",
       "</table>\n",
       "</div>"
      ],
      "text/plain": [
       "    code   vms_x  num_in_train__(wrong_guess)   vms_y  \\\n",
       "13   123  301105                          162  276017   \n",
       "14   123  301105                          162  276017   \n",
       "\n",
       "    num_in_train__(true_label)  Y_true  preds vms_true vms_pred  \n",
       "13                          26     106    123   276017   301105  \n",
       "14                          26     106    123   276017   301105  "
      ]
     },
     "execution_count": 160,
     "metadata": {},
     "output_type": "execute_result"
    }
   ],
   "source": [
    "wrong_guess_info_df[wrong_guess_info_df.vms_pred == '301105']"
   ]
  }
 ],
 "metadata": {
  "kernelspec": {
   "display_name": "keras-retina",
   "language": "python",
   "name": "keras-retina"
  },
  "language_info": {
   "codemirror_mode": {
    "name": "ipython",
    "version": 3
   },
   "file_extension": ".py",
   "mimetype": "text/x-python",
   "name": "python",
   "nbconvert_exporter": "python",
   "pygments_lexer": "ipython3",
   "version": "3.8.8"
  }
 },
 "nbformat": 4,
 "nbformat_minor": 5
}
