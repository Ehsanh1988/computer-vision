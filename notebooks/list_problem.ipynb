{
 "cells": [
  {
   "cell_type": "markdown",
   "id": "assisted-carrier",
   "metadata": {},
   "source": [
    "# LIST CHANGES "
   ]
  },
  {
   "cell_type": "markdown",
   "id": "mexican-crazy",
   "metadata": {},
   "source": [
    "48677 >>> 301106<br>\n",
    "* 3514865\tشیر کاکائو فرادما میهن 1 لیتری\t48677\n",
    "** <font color=\"green\">3464101\tشیر کاکائو میهن 950 میلی لیتری\t301106</font>\n",
    "***\n",
    "314760 >>> 185839<br>\n",
    "**  <font color=\"green\">3514589\tشیر کم چرب نایلونی پاک 900 میلی لیتری\t185839</font>\n",
    "* 3543485\t314760 شیر ویتامین D کم چرب پاک ۸۰۰ میلی لیتری\t\n",
    "***\n",
    "295693 >>> 255691<br>\n",
    "** <font color=\"green\">3460432\tشیر پرچرب کاله ۱ لیتری\t255691</font>\n",
    "*\t3514598\tشير كاكائو کاله 955 میلی لیتری\t295693\n",
    "\n",
    "***\n",
    "<!-- 222069 >>> 195924 -->\n",
    "195924 >>> 222069\n",
    "\n",
    "**\t3484496\tشیر عسل پگاه ۲۰۰ میلی لیتری\t195924\n",
    "*\t3514883\tشیر عسل پگاه ۲۰۰ میلی لیتری\t222069\n",
    "\n",
    "***\n",
    "nim pegah\n",
    "131901 >> 212072\n",
    "\n",
    "*\t3626474\tشیر نیم چرب پگاه 1 لیتری\t131901\n",
    "*\t3467171\tشیر نیم چرب پگاه ۱ لیتری\t212072\n",
    "***\n",
    "pegam kam \n",
    "20034210 >> 172277\n",
    "\n",
    "*\t3610901\tشیر کم چرب ۱ لیتری پگاه\t172277\n",
    "**\t3639979\tشیر کم چرب پگاه 1 لیتری\t20034210\n",
    "***\n",
    "pegah por charb\n",
    "381055 >> 138699 >> 172276<br>\n",
    "\n",
    "*\t3514569\tشیر پر چرب پگاه ۱ لیتری\t138699\n",
    "*\t3610892\tشیر پرچرب ۱ لیتری پگاه\t172276\n",
    "*\t3633845\tشیر پرچرب پگاه 1 لیتری\t381055\n",
    "***\n",
    "shire chopan kam char\n",
    "49094 >> 20033531\n",
    "\n",
    "*\t3468240\tشیر کم چرب چوپان ۹۴۵ میلی لیتری\t49094\n",
    "*\t3639300\tشیر کم چرب چوپان 945 میلی لیتری\t20033531\n",
    "shir kak pegah 200\n",
    "164323 (230 ml) >> 182610 >> 20029024 >> 20046240\n",
    "***\n",
    "*\t3484414\tشیر کاکائو پگاه ۲۳۰ میلی لیتری\t164323\n",
    "*\t3582771\tشیر کاکائو پگاه 200 میلی لیتری\t182610\n",
    "*\t3633385\tشیر کاکائو پگاه 200 میلی لیتری\t20029024\n",
    "*\t3656190\tشیر کاکائو پگاه 200 میلی لیتری\t20046240"
   ]
  },
  {
   "cell_type": "markdown",
   "id": "intensive-prisoner",
   "metadata": {},
   "source": [
    "# note sure\n",
    "349558 12548 <br>"
   ]
  },
  {
   "cell_type": "code",
   "execution_count": null,
   "id": "innovative-premises",
   "metadata": {},
   "outputs": [],
   "source": [
    "202043 wrong lables in traine"
   ]
  },
  {
   "cell_type": "code",
   "execution_count": 5,
   "id": "supposed-deadline",
   "metadata": {},
   "outputs": [],
   "source": [
    "# !mkdir /workspace/product_classifier/data/milk/train-val/301106/\n",
    "\n",
    "# !mv /workspace/product_classifier/data/milk/train-val/314760/* /workspace/product_classifier/data/milk/train-val/185839/\n",
    "\n",
    "# !mv /workspace/product_classifier/data/milk/train-val/295693/* /workspace/product_classifier/data/milk/train-val/255691/\n",
    "# !rm -r /workspace/product_classifier/data/milk/train-val/295693/"
   ]
  },
  {
   "cell_type": "code",
   "execution_count": null,
   "id": "accredited-explorer",
   "metadata": {},
   "outputs": [],
   "source": [
    "vms in trainset no in sale\n",
    "\n",
    "249565\n",
    "325574\n",
    "\n",
    "vms not in trainset but in sale\n",
    "109+ "
   ]
  }
 ],
 "metadata": {
  "kernelspec": {
   "display_name": "tf2",
   "language": "python",
   "name": "myenv"
  },
  "language_info": {
   "codemirror_mode": {
    "name": "ipython",
    "version": 3
   },
   "file_extension": ".py",
   "mimetype": "text/x-python",
   "name": "python",
   "nbconvert_exporter": "python",
   "pygments_lexer": "ipython3",
   "version": "3.8.8"
  }
 },
 "nbformat": 4,
 "nbformat_minor": 5
}
