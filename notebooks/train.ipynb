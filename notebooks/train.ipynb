{
 "cells": [
  {
   "cell_type": "code",
   "execution_count": 3,
   "id": "b1445786-0342-4fec-9722-a92703ccdc86",
   "metadata": {},
   "outputs": [],
   "source": [
    "import tensorflow as tf"
   ]
  },
  {
   "cell_type": "code",
   "execution_count": 4,
   "id": "66d06cbd-2455-446c-92f1-dc7a2ddf137f",
   "metadata": {},
   "outputs": [],
   "source": [
    "# model = tf.keras.applications.NASNetLarge(\n",
    "#     include_top=False,\n",
    "#     weights=\"imagenet\",\n",
    "#     input_tensor=None,\n",
    "#     input_shape=None,\n",
    "#     pooling=None,\n",
    "#     classes=1000,\n",
    "# )\n",
    "# model"
   ]
  },
  {
   "cell_type": "code",
   "execution_count": 5,
   "id": "6f093fb9-d1a0-4db0-9fd4-09c63bb99bbf",
   "metadata": {},
   "outputs": [
    {
     "name": "stdout",
     "output_type": "stream",
     "text": [
      "__init__ in root product_classifier\n"
     ]
    }
   ],
   "source": [
    "# -*- coding: utf-8 -*-\n",
    "\"\"\" \n",
    "main.py\n",
    "\n",
    "python main.py --backbone 'efficientnetb7' --save False --desc '339_cls_TEST'\n",
    "\n",
    "downloaded models :: \n",
    "'resnet50'\n",
    "'resnet50v2'\n",
    "'resnet152v2'\n",
    "'efficientnetb7'\n",
    "'vgg16'\n",
    "\"\"\"\n",
    "import argparse\n",
    "import sys\n",
    "\n",
    "sys.path.append('/workspace/detect-me/product_classifier/')\n",
    "sys.path.append('/workspace/detect-me/product_classifier/utils')\n",
    "from configs.config import (CFG_RESNET50,\n",
    "                           CFG_RESNET50V2,\n",
    "                           CFG_RESNET152,\n",
    "                           CFG_VGG16,\n",
    "                           CFG_EfficientNet )\n",
    "\n",
    "from scripts.models.classifier import Classifier\n",
    "import os\n",
    "import tensorflow as tf\n",
    "import datetime\n",
    "import numpy as np\n",
    "import pandas as pd  \n",
    "\n",
    "csv_path = '/workspace/detect-me/product_classifier/sold60_12JUN.csv'\n",
    "\n",
    "os.environ['TF_CPP_MIN_LOG_LEVEL'] = '3' \n",
    "\n",
    "\n",
    "%load_ext tensorboard\n",
    "def parse_args(args):\n",
    "    \"\"\" Parse the arguments.\n",
    "    \"\"\"\n",
    "    parser     = argparse.ArgumentParser(description='Simple training script for training a RetinaNet network.')\n",
    "    parser.add_argument('--backbone',     help='Backbone model used', default='resnet50', type=str)\n",
    "    parser.add_argument('--save',         help='save.', default=False, type=bool)\n",
    "    parser.add_argument('--desc',         help='description to save model and tensorboad logs .', default='untitled', type=str)\n",
    "\n",
    "    return parser.parse_args(args)\n",
    "\n",
    "\n",
    "def get_traindata_info(model):\n",
    "    train_labels = model.dataset['train'].labels\n",
    "    counts = np.unique(train_labels, return_counts=True)\n",
    "    return pd.DataFrame(counts).T"
   ]
  },
  {
   "cell_type": "code",
   "execution_count": 6,
   "id": "cde99321-8897-4fd3-9810-23aa82f65a19",
   "metadata": {},
   "outputs": [],
   "source": [
    "backbone =      'resnet50'\n",
    "should_I_save = False\n",
    "desc =          'N'\n",
    "\n",
    "if backbone=='resnet50':\n",
    "    train_config = CFG_RESNET50\n",
    "    base_model = tf.keras.applications.ResNet50(\n",
    "                         include_top=False,\n",
    "                         weights=\"imagenet\",\n",
    "                         input_tensor=None,\n",
    "                         # input_shape=(*self.image_size, 3),\n",
    "                         pooling=None,\n",
    "                         classes=1000)\n",
    "elif backbone=='resnet50v2':\n",
    "    train_config = CFG_RESNET50V2\n",
    "    base_model = tf.keras.applications.ResNet50V2(\n",
    "                        include_top=False, weights='imagenet', input_tensor=None,\n",
    "                        input_shape=None, pooling=None, classes=1000,\n",
    "                        classifier_activation='softmax')\n",
    "elif backbone=='resnet152v2':\n",
    "    train_config=CFG_RESNET152\n",
    "    base_model = tf.keras.applications.ResNet152V2(\n",
    "                    include_top=False,\n",
    "                    weights=\"imagenet\",\n",
    "                    input_tensor=None,\n",
    "                    input_shape=None,\n",
    "                    pooling=None,\n",
    "                    classes=1000,\n",
    "                    classifier_activation=\"softmax\",)\n",
    "elif backbone=='efficientnetb7':\n",
    "    train_config = CFG_EfficientNet\n",
    "    base_model = efficientNetB7 = tf.keras.applications.EfficientNetB7(\n",
    "                include_top=False,\n",
    "                weights=\"imagenet\",\n",
    "                input_tensor=None,\n",
    "                input_shape=None,\n",
    "                pooling=None,\n",
    "                classes=1000,\n",
    "                classifier_activation=\"softmax\",)\n",
    "elif backbone=='vgg16':\n",
    "    train_config = CFG_VGG16\n",
    "    base_model = tf.keras.applications.VGG16(include_top=False,\n",
    "                              weights='imagenet',\n",
    "                              classes=1000)\n",
    "else:\n",
    "    raise ValueError('saved models in ./keras folder :: efficientnetb7-vgg16-resnet152v2-resnet50-resnet50v2 ')\n",
    "\n",
    "freeze_up_to = train_config['train']['fine_tune_at']\n",
    "lr = train_config['train']['opt_lr']\n",
    "batchs = train_config['train']['batch_size']\n",
    "optimizer = train_config['train']['optimizer']['type']\n",
    "optimizer__callback = train_config['train']['optimizer']['lr_callback']['type']\n",
    "\n",
    "# optimizer__callback_params = train_config['train']['optimizer']['lr_callback']['params']\n",
    "# optimizer__callback_params = '___'.join([f'{k}-{v}' for k,v in optimizer__callback_params.items()])\n",
    "\n",
    "epochs = train_config['train']['epochs']\n",
    "dropout = train_config['train']['dropout']\n",
    "base_model_name = train_config['model']['name']\n",
    "data_augmentation = '___'.join([f'{k}-{v}' for k,v in train_config['train']['data_augmentation'].items()])\n",
    "\n",
    "\n",
    "time = datetime.datetime.utcnow() + datetime.timedelta(hours=4, minutes=30)\n",
    "timest = time.strftime(\"%Y-%b-%d----%H%M%S\")\n",
    "\n",
    "desc = f\"{desc}__{timest}\"\n",
    "\n",
    "model_nametag = f'{base_model_name}---(Freeze-{freeze_up_to})-(lr-{lr}-{optimizer})-(opt_cb-{optimizer__callback})-(epoch-{epochs})-(batch-{batchs})-(dropout-{dropout})-{data_augmentation}-{desc}'\n"
   ]
  },
  {
   "cell_type": "code",
   "execution_count": 7,
   "id": "363c68f9-7bd6-46b6-b7df-8df5d45cb7fd",
   "metadata": {},
   "outputs": [
    {
     "name": "stdout",
     "output_type": "stream",
     "text": [
      "model_path ::\n",
      "/workspace/detect-me/product_classifier/saved_models/milk/resnet50\n",
      "tensorboard_logs_path_ ::\n",
      "/workspace/detect-me/product_classifier/saved_models/milk/tensorboard_logs\n",
      "data_path_ ::\n",
      "/workspace/detect-me/product_classifier/data/milk\n",
      "init_done\n"
     ]
    }
   ],
   "source": [
    "model = Classifier(cat = 'milk',\n",
    "                 config =train_config,\n",
    "                 base_model = base_model,\n",
    "                 name_tensorboard=model_nametag,)\n",
    "            "
   ]
  },
  {
   "cell_type": "code",
   "execution_count": 9,
   "id": "d932628b-9350-49f5-a148-e262a3979a43",
   "metadata": {},
   "outputs": [
    {
     "data": {
      "text/html": [
       "\n",
       "      <iframe id=\"tensorboard-frame-9a389b0af992b7c8\" width=\"100%\" height=\"800\" frameborder=\"0\">\n",
       "      </iframe>\n",
       "      <script>\n",
       "        (function() {\n",
       "          const frame = document.getElementById(\"tensorboard-frame-9a389b0af992b7c8\");\n",
       "          const url = new URL(\"/\", window.location);\n",
       "          const port = 6666;\n",
       "          if (port) {\n",
       "            url.port = port;\n",
       "          }\n",
       "          frame.src = url;\n",
       "        })();\n",
       "      </script>\n",
       "    "
      ],
      "text/plain": [
       "<IPython.core.display.HTML object>"
      ]
     },
     "metadata": {},
     "output_type": "display_data"
    }
   ],
   "source": [
    "%tensorboard --logdir '/workspace/detect-me/product_classifier/saved_models/milk/tensorboard_logs' --port 6666"
   ]
  },
  {
   "cell_type": "code",
   "execution_count": 10,
   "id": "fc61329d-f4f4-408b-b303-c6ced1dd0589",
   "metadata": {},
   "outputs": [
    {
     "name": "stdout",
     "output_type": "stream",
     "text": [
      "len(base_model.layers) :\n",
      " 175\n",
      "len classes_set 339\n",
      "load_with OUT_mixup_generator\n",
      "Found 10113 validated image filenames belonging to 339 classes.\n",
      "Found 2632 validated image filenames belonging to 339 classes.\n",
      "Found 718 validated image filenames belonging to 339 classes.\n",
      "________________________________________________WARNING!___________________________________________\n",
      "something is WRONGGGG!! num  classes in CONFIG is DIFF from what I get from Train-validation folder\n",
      "num classes is calculated based on  folder structure in xxx/train-val\n",
      "num_classes : 339\n",
      "________________________________________________WARNING!___________________________________________\n",
      "resnet50 preprocess\n",
      "len(self.model.trainable_variables)  66\n",
      "adam\n",
      "['*', '*', '*', '*', '*', '*', '*', '*', '*', '*', '*', '*', '*', '*', '*', '*', '*', '*', '*', '*', '*', '*', '*', '*', '*', '*', '*', '*', '*', '*', '*', '*', '*', '*', '*', '*', '*', '*', '*', '*', '*', '*', '*', '*', '*', '*', '*', '*', '*', '*', '*', '*', '*', '*', '*', '*', '*', '*', '*', '*', '*', '*', '*', '*', '*', '*', '*', '*', '*', '*', '*', '*', '*', '*', '*', '*', '*', '*', '*', '*', '*', '*', '*', '*', '*', '*', '*', '*', '*', '*', '*', '*', '*', '*', '*', '*', '*', '*', '*', '*']\n",
      "{'name': 'Adam', 'learning_rate': 0.0088, 'decay': 0.0, 'beta_1': 0.9, 'beta_2': 0.999, 'epsilon': 0.1, 'amsgrad': False}\n",
      "['*', '*', '*', '*', '*', '*', '*', '*', '*', '*', '*', '*', '*', '*', '*', '*', '*', '*', '*', '*', '*', '*', '*', '*', '*', '*', '*', '*', '*', '*', '*', '*', '*', '*', '*', '*', '*', '*', '*', '*', '*', '*', '*', '*', '*', '*', '*', '*', '*', '*', '*', '*', '*', '*', '*', '*', '*', '*', '*', '*', '*', '*', '*', '*', '*', '*', '*', '*', '*', '*', '*', '*', '*', '*', '*', '*', '*', '*', '*', '*', '*', '*', '*', '*', '*', '*', '*', '*', '*', '*', '*', '*', '*', '*', '*', '*', '*', '*', '*', '*']\n",
      "*******************************************************   cosine_learning_rate_decay   ****************************************************************************************************************************************************\n",
      "total_steps in train:: 14045\n",
      "sample count :: 10113 in 25 epochs *********************************************************************\n",
      "warmup_steps 2247\n",
      "*******************************************************************************************************************************************************************************************************************************************\n",
      "callbacks ::[<scripts.utils.callbacks.WarmUpCosineDecayScheduler object at 0x7fd315f747f0>, <scripts.utils.callbacks.LRTensorBoard object at 0x7fd315f47dc0>, <tensorflow.python.keras.callbacks.EarlyStopping object at 0x7fd315f47250>]\n",
      "Epoch 1/25\n",
      "WARNING:tensorflow:multiprocessing can interact badly with TensorFlow, causing nondeterministic deadlocks. For high performance data pipelines tf.data is recommended.\n",
      "  6/561 [..............................] - ETA: 2:12 - loss: 6.0883 - accuracy: 0.0000e+00 - Precision-tr-0.5: 0.0000e+00 - Precision-tr-0.9: 0.0000e+00 - fp: 0.0000e+00 - fn: 63.0000 - recall-tr--0.5: 0.0000e+00 - recall-tr--0.9: 0.0000e+00WARNING:tensorflow:Callback method `on_train_batch_begin` is slow compared to the batch time (batch time: 0.0794s vs `on_train_batch_begin` time: 0.0883s). Check your callbacks.\n",
      "392/561 [===================>..........] - ETA: 13s - loss: 5.3509 - accuracy: 0.0873 - Precision-tr-0.5: 0.5652 - Precision-tr-0.9: 0.5699 - fp: 54.9464 - fn: 3334.5969 - recall-tr--0.5: 0.0350 - recall-tr--0.9: 0.0141"
     ]
    },
    {
     "name": "stderr",
     "output_type": "stream",
     "text": [
      "Process Keras_worker_ForkPoolWorker-1:\n",
      "Process Keras_worker_ForkPoolWorker-2:\n",
      "Process Keras_worker_ForkPoolWorker-3:\n",
      "Process Keras_worker_ForkPoolWorker-4:\n",
      "Traceback (most recent call last):\n",
      "Traceback (most recent call last):\n",
      "  File \"/usr/lib/python3.8/multiprocessing/process.py\", line 315, in _bootstrap\n",
      "    self.run()\n",
      "  File \"/usr/lib/python3.8/multiprocessing/process.py\", line 315, in _bootstrap\n",
      "    self.run()\n",
      "  File \"/usr/lib/python3.8/multiprocessing/process.py\", line 108, in run\n",
      "    self._target(*self._args, **self._kwargs)\n",
      "  File \"/usr/lib/python3.8/multiprocessing/process.py\", line 108, in run\n",
      "    self._target(*self._args, **self._kwargs)\n",
      "  File \"/usr/lib/python3.8/multiprocessing/pool.py\", line 114, in worker\n",
      "    task = get()\n",
      "  File \"/usr/lib/python3.8/multiprocessing/pool.py\", line 131, in worker\n",
      "    put((job, i, result))\n",
      "  File \"/usr/lib/python3.8/multiprocessing/queues.py\", line 356, in get\n",
      "    res = self._reader.recv_bytes()\n",
      "  File \"/usr/lib/python3.8/multiprocessing/queues.py\", line 368, in put\n",
      "    self._writer.send_bytes(obj)\n",
      "  File \"/usr/lib/python3.8/multiprocessing/connection.py\", line 216, in recv_bytes\n",
      "    buf = self._recv_bytes(maxlength)\n",
      "  File \"/usr/lib/python3.8/multiprocessing/connection.py\", line 200, in send_bytes\n",
      "    self._send_bytes(m[offset:offset + size])\n",
      "  File \"/usr/lib/python3.8/multiprocessing/connection.py\", line 414, in _recv_bytes\n",
      "    buf = self._recv(4)\n",
      "  File \"/usr/lib/python3.8/multiprocessing/connection.py\", line 405, in _send_bytes\n",
      "    self._send(buf)\n",
      "  File \"/usr/lib/python3.8/multiprocessing/connection.py\", line 379, in _recv\n",
      "    chunk = read(handle, remaining)\n",
      "  File \"/usr/lib/python3.8/multiprocessing/connection.py\", line 368, in _send\n",
      "    n = write(self._handle, buf)\n",
      "KeyboardInterrupt\n",
      "KeyboardInterrupt\n",
      "Traceback (most recent call last):\n",
      "Traceback (most recent call last):\n",
      "  File \"/usr/lib/python3.8/multiprocessing/process.py\", line 315, in _bootstrap\n",
      "    self.run()\n",
      "  File \"/usr/lib/python3.8/multiprocessing/process.py\", line 315, in _bootstrap\n",
      "    self.run()\n",
      "  File \"/usr/lib/python3.8/multiprocessing/process.py\", line 108, in run\n",
      "    self._target(*self._args, **self._kwargs)\n",
      "  File \"/usr/lib/python3.8/multiprocessing/process.py\", line 108, in run\n",
      "    self._target(*self._args, **self._kwargs)\n",
      "  File \"/usr/lib/python3.8/multiprocessing/pool.py\", line 125, in worker\n",
      "    result = (True, func(*args, **kwds))\n",
      "  File \"/usr/lib/python3.8/multiprocessing/pool.py\", line 125, in worker\n",
      "    result = (True, func(*args, **kwds))\n",
      "  File \"/workspace/keras-retinanet/keras-retina-venv/lib/python3.8/site-packages/tensorflow/python/keras/utils/data_utils.py\", line 567, in get_index\n",
      "    return _SHARED_SEQUENCES[uid][i]\n",
      "  File \"/workspace/keras-retinanet/keras-retina-venv/lib/python3.8/site-packages/tensorflow/python/keras/utils/data_utils.py\", line 567, in get_index\n",
      "    return _SHARED_SEQUENCES[uid][i]\n",
      "  File \"/workspace/keras-retinanet/keras-retina-venv/lib/python3.8/site-packages/keras_preprocessing/image/iterator.py\", line 65, in __getitem__\n",
      "    return self._get_batches_of_transformed_samples(index_array)\n",
      "  File \"/workspace/keras-retinanet/keras-retina-venv/lib/python3.8/site-packages/keras_preprocessing/image/iterator.py\", line 65, in __getitem__\n",
      "    return self._get_batches_of_transformed_samples(index_array)\n",
      "  File \"/workspace/keras-retinanet/keras-retina-venv/lib/python3.8/site-packages/keras_preprocessing/image/iterator.py\", line 238, in _get_batches_of_transformed_samples\n",
      "    x = self.image_data_generator.apply_transform(x, params)\n",
      "  File \"/workspace/keras-retinanet/keras-retina-venv/lib/python3.8/site-packages/keras_preprocessing/image/iterator.py\", line 238, in _get_batches_of_transformed_samples\n",
      "    x = self.image_data_generator.apply_transform(x, params)\n",
      "  File \"/workspace/keras-retinanet/keras-retina-venv/lib/python3.8/site-packages/keras_preprocessing/image/image_data_generator.py\", line 888, in apply_transform\n",
      "    x = apply_brightness_shift(x, transform_parameters['brightness'])\n",
      "  File \"/workspace/keras-retinanet/keras-retina-venv/lib/python3.8/site-packages/keras_preprocessing/image/image_data_generator.py\", line 888, in apply_transform\n",
      "    x = apply_brightness_shift(x, transform_parameters['brightness'])\n",
      "  File \"/workspace/keras-retinanet/keras-retina-venv/lib/python3.8/site-packages/keras_preprocessing/image/affine_transformations.py\", line 215, in apply_brightness_shift\n",
      "    x = array_to_img(x)\n",
      "  File \"/workspace/keras-retinanet/keras-retina-venv/lib/python3.8/site-packages/keras_preprocessing/image/affine_transformations.py\", line 217, in apply_brightness_shift\n",
      "    x = imgenhancer_Brightness.enhance(brightness)\n",
      "  File \"/workspace/keras-retinanet/keras-retina-venv/lib/python3.8/site-packages/keras_preprocessing/image/utils.py\", line 278, in array_to_img\n",
      "    return pil_image.fromarray(x.astype('uint8'), 'RGB')\n",
      "  File \"/workspace/keras-retinanet/keras-retina-venv/lib/python3.8/site-packages/PIL/ImageEnhance.py\", line 36, in enhance\n",
      "    return Image.blend(self.degenerate, self.image, factor)\n",
      "  File \"/workspace/keras-retinanet/keras-retina-venv/lib/python3.8/site-packages/PIL/Image.py\", line 2845, in fromarray\n",
      "    obj = obj.tobytes()\n",
      "  File \"/workspace/keras-retinanet/keras-retina-venv/lib/python3.8/site-packages/PIL/Image.py\", line 3067, in blend\n",
      "    return im1._new(core.blend(im1.im, im2.im, alpha))\n",
      "KeyboardInterrupt\n",
      "KeyboardInterrupt\n"
     ]
    },
    {
     "ename": "KeyboardInterrupt",
     "evalue": "",
     "output_type": "error",
     "traceback": [
      "\u001b[0;31m---------------------------------------------------------------------------\u001b[0m",
      "\u001b[0;31mKeyboardInterrupt\u001b[0m                         Traceback (most recent call last)",
      "\u001b[0;32m<ipython-input-10-df5b32442102>\u001b[0m in \u001b[0;36m<module>\u001b[0;34m\u001b[0m\n\u001b[1;32m      8\u001b[0m \u001b[0;34m\u001b[0m\u001b[0m\n\u001b[1;32m      9\u001b[0m \u001b[0;34m\u001b[0m\u001b[0m\n\u001b[0;32m---> 10\u001b[0;31m history = model.train(save=should_I_save,\n\u001b[0m\u001b[1;32m     11\u001b[0m                       \u001b[0msave_name\u001b[0m\u001b[0;34m=\u001b[0m\u001b[0mmodel_nametag\u001b[0m\u001b[0;34m,\u001b[0m\u001b[0;34m\u001b[0m\u001b[0;34m\u001b[0m\u001b[0m\n\u001b[1;32m     12\u001b[0m                       train_info=train_info)\n",
      "\u001b[0;32m/workspace/detect-me/product_classifier/scripts/models/classifier.py\u001b[0m in \u001b[0;36mtrain\u001b[0;34m(self, save, epochs, save_name, initial_epoch, verbose, train_info)\u001b[0m\n\u001b[1;32m    327\u001b[0m \u001b[0;34m\u001b[0m\u001b[0m\n\u001b[1;32m    328\u001b[0m         \u001b[0mprint\u001b[0m\u001b[0;34m(\u001b[0m\u001b[0;34mf'callbacks ::{cbs}'\u001b[0m\u001b[0;34m)\u001b[0m\u001b[0;34m\u001b[0m\u001b[0;34m\u001b[0m\u001b[0m\n\u001b[0;32m--> 329\u001b[0;31m         history = self.model.fit(self.dataset['train'],\n\u001b[0m\u001b[1;32m    330\u001b[0m                                  \u001b[0mbatch_size\u001b[0m\u001b[0;34m=\u001b[0m\u001b[0mself\u001b[0m\u001b[0;34m.\u001b[0m\u001b[0mbatch_size\u001b[0m\u001b[0;34m,\u001b[0m\u001b[0;34m\u001b[0m\u001b[0;34m\u001b[0m\u001b[0m\n\u001b[1;32m    331\u001b[0m                                  \u001b[0mepochs\u001b[0m\u001b[0;34m=\u001b[0m\u001b[0mepochs\u001b[0m\u001b[0;34m,\u001b[0m\u001b[0;34m\u001b[0m\u001b[0;34m\u001b[0m\u001b[0m\n",
      "\u001b[0;32m/workspace/keras-retinanet/keras-retina-venv/lib/python3.8/site-packages/tensorflow/python/keras/engine/training.py\u001b[0m in \u001b[0;36mfit\u001b[0;34m(self, x, y, batch_size, epochs, verbose, callbacks, validation_split, validation_data, shuffle, class_weight, sample_weight, initial_epoch, steps_per_epoch, validation_steps, validation_batch_size, validation_freq, max_queue_size, workers, use_multiprocessing)\u001b[0m\n\u001b[1;32m   1098\u001b[0m                 _r=1):\n\u001b[1;32m   1099\u001b[0m               \u001b[0mcallbacks\u001b[0m\u001b[0;34m.\u001b[0m\u001b[0mon_train_batch_begin\u001b[0m\u001b[0;34m(\u001b[0m\u001b[0mstep\u001b[0m\u001b[0;34m)\u001b[0m\u001b[0;34m\u001b[0m\u001b[0;34m\u001b[0m\u001b[0m\n\u001b[0;32m-> 1100\u001b[0;31m               \u001b[0mtmp_logs\u001b[0m \u001b[0;34m=\u001b[0m \u001b[0mself\u001b[0m\u001b[0;34m.\u001b[0m\u001b[0mtrain_function\u001b[0m\u001b[0;34m(\u001b[0m\u001b[0miterator\u001b[0m\u001b[0;34m)\u001b[0m\u001b[0;34m\u001b[0m\u001b[0;34m\u001b[0m\u001b[0m\n\u001b[0m\u001b[1;32m   1101\u001b[0m               \u001b[0;32mif\u001b[0m \u001b[0mdata_handler\u001b[0m\u001b[0;34m.\u001b[0m\u001b[0mshould_sync\u001b[0m\u001b[0;34m:\u001b[0m\u001b[0;34m\u001b[0m\u001b[0;34m\u001b[0m\u001b[0m\n\u001b[1;32m   1102\u001b[0m                 \u001b[0mcontext\u001b[0m\u001b[0;34m.\u001b[0m\u001b[0masync_wait\u001b[0m\u001b[0;34m(\u001b[0m\u001b[0;34m)\u001b[0m\u001b[0;34m\u001b[0m\u001b[0;34m\u001b[0m\u001b[0m\n",
      "\u001b[0;32m/workspace/keras-retinanet/keras-retina-venv/lib/python3.8/site-packages/tensorflow/python/eager/def_function.py\u001b[0m in \u001b[0;36m__call__\u001b[0;34m(self, *args, **kwds)\u001b[0m\n\u001b[1;32m    826\u001b[0m     \u001b[0mtracing_count\u001b[0m \u001b[0;34m=\u001b[0m \u001b[0mself\u001b[0m\u001b[0;34m.\u001b[0m\u001b[0mexperimental_get_tracing_count\u001b[0m\u001b[0;34m(\u001b[0m\u001b[0;34m)\u001b[0m\u001b[0;34m\u001b[0m\u001b[0;34m\u001b[0m\u001b[0m\n\u001b[1;32m    827\u001b[0m     \u001b[0;32mwith\u001b[0m \u001b[0mtrace\u001b[0m\u001b[0;34m.\u001b[0m\u001b[0mTrace\u001b[0m\u001b[0;34m(\u001b[0m\u001b[0mself\u001b[0m\u001b[0;34m.\u001b[0m\u001b[0m_name\u001b[0m\u001b[0;34m)\u001b[0m \u001b[0;32mas\u001b[0m \u001b[0mtm\u001b[0m\u001b[0;34m:\u001b[0m\u001b[0;34m\u001b[0m\u001b[0;34m\u001b[0m\u001b[0m\n\u001b[0;32m--> 828\u001b[0;31m       \u001b[0mresult\u001b[0m \u001b[0;34m=\u001b[0m \u001b[0mself\u001b[0m\u001b[0;34m.\u001b[0m\u001b[0m_call\u001b[0m\u001b[0;34m(\u001b[0m\u001b[0;34m*\u001b[0m\u001b[0margs\u001b[0m\u001b[0;34m,\u001b[0m \u001b[0;34m**\u001b[0m\u001b[0mkwds\u001b[0m\u001b[0;34m)\u001b[0m\u001b[0;34m\u001b[0m\u001b[0;34m\u001b[0m\u001b[0m\n\u001b[0m\u001b[1;32m    829\u001b[0m       \u001b[0mcompiler\u001b[0m \u001b[0;34m=\u001b[0m \u001b[0;34m\"xla\"\u001b[0m \u001b[0;32mif\u001b[0m \u001b[0mself\u001b[0m\u001b[0;34m.\u001b[0m\u001b[0m_experimental_compile\u001b[0m \u001b[0;32melse\u001b[0m \u001b[0;34m\"nonXla\"\u001b[0m\u001b[0;34m\u001b[0m\u001b[0;34m\u001b[0m\u001b[0m\n\u001b[1;32m    830\u001b[0m       \u001b[0mnew_tracing_count\u001b[0m \u001b[0;34m=\u001b[0m \u001b[0mself\u001b[0m\u001b[0;34m.\u001b[0m\u001b[0mexperimental_get_tracing_count\u001b[0m\u001b[0;34m(\u001b[0m\u001b[0;34m)\u001b[0m\u001b[0;34m\u001b[0m\u001b[0;34m\u001b[0m\u001b[0m\n",
      "\u001b[0;32m/workspace/keras-retinanet/keras-retina-venv/lib/python3.8/site-packages/tensorflow/python/eager/def_function.py\u001b[0m in \u001b[0;36m_call\u001b[0;34m(self, *args, **kwds)\u001b[0m\n\u001b[1;32m    853\u001b[0m       \u001b[0;31m# In this case we have created variables on the first call, so we run the\u001b[0m\u001b[0;34m\u001b[0m\u001b[0;34m\u001b[0m\u001b[0;34m\u001b[0m\u001b[0m\n\u001b[1;32m    854\u001b[0m       \u001b[0;31m# defunned version which is guaranteed to never create variables.\u001b[0m\u001b[0;34m\u001b[0m\u001b[0;34m\u001b[0m\u001b[0;34m\u001b[0m\u001b[0m\n\u001b[0;32m--> 855\u001b[0;31m       \u001b[0;32mreturn\u001b[0m \u001b[0mself\u001b[0m\u001b[0;34m.\u001b[0m\u001b[0m_stateless_fn\u001b[0m\u001b[0;34m(\u001b[0m\u001b[0;34m*\u001b[0m\u001b[0margs\u001b[0m\u001b[0;34m,\u001b[0m \u001b[0;34m**\u001b[0m\u001b[0mkwds\u001b[0m\u001b[0;34m)\u001b[0m  \u001b[0;31m# pylint: disable=not-callable\u001b[0m\u001b[0;34m\u001b[0m\u001b[0;34m\u001b[0m\u001b[0m\n\u001b[0m\u001b[1;32m    856\u001b[0m     \u001b[0;32melif\u001b[0m \u001b[0mself\u001b[0m\u001b[0;34m.\u001b[0m\u001b[0m_stateful_fn\u001b[0m \u001b[0;32mis\u001b[0m \u001b[0;32mnot\u001b[0m \u001b[0;32mNone\u001b[0m\u001b[0;34m:\u001b[0m\u001b[0;34m\u001b[0m\u001b[0;34m\u001b[0m\u001b[0m\n\u001b[1;32m    857\u001b[0m       \u001b[0;31m# Release the lock early so that multiple threads can perform the call\u001b[0m\u001b[0;34m\u001b[0m\u001b[0;34m\u001b[0m\u001b[0;34m\u001b[0m\u001b[0m\n",
      "\u001b[0;32m/workspace/keras-retinanet/keras-retina-venv/lib/python3.8/site-packages/tensorflow/python/eager/function.py\u001b[0m in \u001b[0;36m__call__\u001b[0;34m(self, *args, **kwargs)\u001b[0m\n\u001b[1;32m   2940\u001b[0m       (graph_function,\n\u001b[1;32m   2941\u001b[0m        filtered_flat_args) = self._maybe_define_function(args, kwargs)\n\u001b[0;32m-> 2942\u001b[0;31m     return graph_function._call_flat(\n\u001b[0m\u001b[1;32m   2943\u001b[0m         filtered_flat_args, captured_inputs=graph_function.captured_inputs)  # pylint: disable=protected-access\n\u001b[1;32m   2944\u001b[0m \u001b[0;34m\u001b[0m\u001b[0m\n",
      "\u001b[0;32m/workspace/keras-retinanet/keras-retina-venv/lib/python3.8/site-packages/tensorflow/python/eager/function.py\u001b[0m in \u001b[0;36m_call_flat\u001b[0;34m(self, args, captured_inputs, cancellation_manager)\u001b[0m\n\u001b[1;32m   1916\u001b[0m         and executing_eagerly):\n\u001b[1;32m   1917\u001b[0m       \u001b[0;31m# No tape is watching; skip to running the function.\u001b[0m\u001b[0;34m\u001b[0m\u001b[0;34m\u001b[0m\u001b[0;34m\u001b[0m\u001b[0m\n\u001b[0;32m-> 1918\u001b[0;31m       return self._build_call_outputs(self._inference_function.call(\n\u001b[0m\u001b[1;32m   1919\u001b[0m           ctx, args, cancellation_manager=cancellation_manager))\n\u001b[1;32m   1920\u001b[0m     forward_backward = self._select_forward_and_backward_functions(\n",
      "\u001b[0;32m/workspace/keras-retinanet/keras-retina-venv/lib/python3.8/site-packages/tensorflow/python/eager/function.py\u001b[0m in \u001b[0;36mcall\u001b[0;34m(self, ctx, args, cancellation_manager)\u001b[0m\n\u001b[1;32m    553\u001b[0m       \u001b[0;32mwith\u001b[0m \u001b[0m_InterpolateFunctionError\u001b[0m\u001b[0;34m(\u001b[0m\u001b[0mself\u001b[0m\u001b[0;34m)\u001b[0m\u001b[0;34m:\u001b[0m\u001b[0;34m\u001b[0m\u001b[0;34m\u001b[0m\u001b[0m\n\u001b[1;32m    554\u001b[0m         \u001b[0;32mif\u001b[0m \u001b[0mcancellation_manager\u001b[0m \u001b[0;32mis\u001b[0m \u001b[0;32mNone\u001b[0m\u001b[0;34m:\u001b[0m\u001b[0;34m\u001b[0m\u001b[0;34m\u001b[0m\u001b[0m\n\u001b[0;32m--> 555\u001b[0;31m           outputs = execute.execute(\n\u001b[0m\u001b[1;32m    556\u001b[0m               \u001b[0mstr\u001b[0m\u001b[0;34m(\u001b[0m\u001b[0mself\u001b[0m\u001b[0;34m.\u001b[0m\u001b[0msignature\u001b[0m\u001b[0;34m.\u001b[0m\u001b[0mname\u001b[0m\u001b[0;34m)\u001b[0m\u001b[0;34m,\u001b[0m\u001b[0;34m\u001b[0m\u001b[0;34m\u001b[0m\u001b[0m\n\u001b[1;32m    557\u001b[0m               \u001b[0mnum_outputs\u001b[0m\u001b[0;34m=\u001b[0m\u001b[0mself\u001b[0m\u001b[0;34m.\u001b[0m\u001b[0m_num_outputs\u001b[0m\u001b[0;34m,\u001b[0m\u001b[0;34m\u001b[0m\u001b[0;34m\u001b[0m\u001b[0m\n",
      "\u001b[0;32m/workspace/keras-retinanet/keras-retina-venv/lib/python3.8/site-packages/tensorflow/python/eager/execute.py\u001b[0m in \u001b[0;36mquick_execute\u001b[0;34m(op_name, num_outputs, inputs, attrs, ctx, name)\u001b[0m\n\u001b[1;32m     57\u001b[0m   \u001b[0;32mtry\u001b[0m\u001b[0;34m:\u001b[0m\u001b[0;34m\u001b[0m\u001b[0;34m\u001b[0m\u001b[0m\n\u001b[1;32m     58\u001b[0m     \u001b[0mctx\u001b[0m\u001b[0;34m.\u001b[0m\u001b[0mensure_initialized\u001b[0m\u001b[0;34m(\u001b[0m\u001b[0;34m)\u001b[0m\u001b[0;34m\u001b[0m\u001b[0;34m\u001b[0m\u001b[0m\n\u001b[0;32m---> 59\u001b[0;31m     tensors = pywrap_tfe.TFE_Py_Execute(ctx._handle, device_name, op_name,\n\u001b[0m\u001b[1;32m     60\u001b[0m                                         inputs, attrs, num_outputs)\n\u001b[1;32m     61\u001b[0m   \u001b[0;32mexcept\u001b[0m \u001b[0mcore\u001b[0m\u001b[0;34m.\u001b[0m\u001b[0m_NotOkStatusException\u001b[0m \u001b[0;32mas\u001b[0m \u001b[0me\u001b[0m\u001b[0;34m:\u001b[0m\u001b[0;34m\u001b[0m\u001b[0;34m\u001b[0m\u001b[0m\n",
      "\u001b[0;31mKeyboardInterrupt\u001b[0m: "
     ]
    },
    {
     "name": "stderr",
     "output_type": "stream",
     "text": [
      "Process Keras_worker_ForkPoolWorker-5:\n",
      "Process Keras_worker_ForkPoolWorker-7:\n",
      "Process Keras_worker_ForkPoolWorker-8:\n",
      "Process Keras_worker_ForkPoolWorker-6:\n",
      "Traceback (most recent call last):\n",
      "  File \"/usr/lib/python3.8/multiprocessing/process.py\", line 315, in _bootstrap\n",
      "    self.run()\n",
      "Traceback (most recent call last):\n",
      "Traceback (most recent call last):\n",
      "Traceback (most recent call last):\n",
      "  File \"/usr/lib/python3.8/multiprocessing/process.py\", line 108, in run\n",
      "    self._target(*self._args, **self._kwargs)\n",
      "  File \"/usr/lib/python3.8/multiprocessing/process.py\", line 315, in _bootstrap\n",
      "    self.run()\n",
      "  File \"/usr/lib/python3.8/multiprocessing/process.py\", line 315, in _bootstrap\n",
      "    self.run()\n",
      "  File \"/usr/lib/python3.8/multiprocessing/process.py\", line 315, in _bootstrap\n",
      "    self.run()\n",
      "  File \"/usr/lib/python3.8/multiprocessing/process.py\", line 108, in run\n",
      "    self._target(*self._args, **self._kwargs)\n",
      "  File \"/usr/lib/python3.8/multiprocessing/pool.py\", line 114, in worker\n",
      "    task = get()\n",
      "  File \"/usr/lib/python3.8/multiprocessing/process.py\", line 108, in run\n",
      "    self._target(*self._args, **self._kwargs)\n",
      "  File \"/usr/lib/python3.8/multiprocessing/process.py\", line 108, in run\n",
      "    self._target(*self._args, **self._kwargs)\n",
      "  File \"/usr/lib/python3.8/multiprocessing/pool.py\", line 114, in worker\n",
      "    task = get()\n",
      "  File \"/usr/lib/python3.8/multiprocessing/queues.py\", line 356, in get\n",
      "    res = self._reader.recv_bytes()\n",
      "  File \"/usr/lib/python3.8/multiprocessing/pool.py\", line 114, in worker\n",
      "    task = get()\n",
      "  File \"/usr/lib/python3.8/multiprocessing/pool.py\", line 114, in worker\n",
      "    task = get()\n",
      "  File \"/usr/lib/python3.8/multiprocessing/connection.py\", line 216, in recv_bytes\n",
      "    buf = self._recv_bytes(maxlength)\n",
      "  File \"/usr/lib/python3.8/multiprocessing/queues.py\", line 355, in get\n",
      "    with self._rlock:\n",
      "  File \"/usr/lib/python3.8/multiprocessing/queues.py\", line 355, in get\n",
      "    with self._rlock:\n",
      "  File \"/usr/lib/python3.8/multiprocessing/queues.py\", line 355, in get\n",
      "    with self._rlock:\n",
      "  File \"/usr/lib/python3.8/multiprocessing/connection.py\", line 414, in _recv_bytes\n",
      "    buf = self._recv(4)\n",
      "  File \"/usr/lib/python3.8/multiprocessing/synchronize.py\", line 95, in __enter__\n",
      "    return self._semlock.__enter__()\n",
      "  File \"/usr/lib/python3.8/multiprocessing/synchronize.py\", line 95, in __enter__\n",
      "    return self._semlock.__enter__()\n",
      "  File \"/usr/lib/python3.8/multiprocessing/synchronize.py\", line 95, in __enter__\n",
      "    return self._semlock.__enter__()\n",
      "  File \"/usr/lib/python3.8/multiprocessing/connection.py\", line 379, in _recv\n",
      "    chunk = read(handle, remaining)\n",
      "KeyboardInterrupt\n",
      "KeyboardInterrupt\n",
      "KeyboardInterrupt\n",
      "KeyboardInterrupt\n"
     ]
    }
   ],
   "source": [
    "print('len(base_model.layers) :\\n',len(model.base_model.layers))\n",
    "\n",
    "model.load_data(csv_path = None)\n",
    "train_info = get_traindata_info(model)\n",
    "model.build()\n",
    "model.compile(fine_tune_at=model.fine_tune_at,\n",
    "                        lr=model.lr)\n",
    "\n",
    "\n",
    "history = model.train(save=should_I_save,\n",
    "                      save_name=model_nametag,\n",
    "                      train_info=train_info)"
   ]
  },
  {
   "cell_type": "code",
   "execution_count": 14,
   "id": "ceba7cf8-a111-4bd4-8754-d2d7a4a04976",
   "metadata": {},
   "outputs": [
    {
     "name": "stdout",
     "output_type": "stream",
     "text": [
      "________________________________________________________________________\n",
      "____________________eval on test set____________________________________\n",
      "718/718 [==============================] - 10s 13ms/step - loss: 0.2931 - accuracy: 0.9359 - Precision-tr-0.5: 0.9501 - Precision-tr-0.9: 0.9765 - fp: 35.0000 - fn: 51.0000 - recall-tr--0.5: 0.9290 - recall-tr--0.9: 0.8691\n",
      "________________________________________________________________________\n"
     ]
    }
   ],
   "source": [
    "#TODO save result \n",
    "print('________________________________________________________________________')\n",
    "print('____________________eval on test set____________________________________')\n",
    "testt = model.evaluate(model.dataset['test'],)\n",
    "print('________________________________________________________________________')"
   ]
  },
  {
   "cell_type": "code",
   "execution_count": 21,
   "id": "40278f53-3495-4824-a257-3924cfcde509",
   "metadata": {},
   "outputs": [
    {
     "data": {
      "text/plain": [
       "'/workspace/detect-me/product_classifier/saved_models/'"
      ]
     },
     "execution_count": 21,
     "metadata": {},
     "output_type": "execute_result"
    }
   ],
   "source": []
  },
  {
   "cell_type": "code",
   "execution_count": 24,
   "id": "4dcafb31-7d69-46c6-a1e4-8c84aa48da18",
   "metadata": {},
   "outputs": [
    {
     "data": {
      "text/plain": [
       "'resnet50'"
      ]
     },
     "execution_count": 24,
     "metadata": {},
     "output_type": "execute_result"
    }
   ],
   "source": [
    "model.base_model.name"
   ]
  },
  {
   "cell_type": "code",
   "execution_count": 31,
   "id": "01be8fd2-4824-4006-afdf-d47298f21b12",
   "metadata": {},
   "outputs": [],
   "source": [
    "import pathlib"
   ]
  },
  {
   "cell_type": "code",
   "execution_count": 38,
   "id": "a42068ea-656a-429f-9a0f-7384a65bbfe8",
   "metadata": {},
   "outputs": [
    {
     "name": "stderr",
     "output_type": "stream",
     "text": [
      "UsageError: Missing filename.\n"
     ]
    }
   ],
   "source": []
  },
  {
   "cell_type": "code",
   "execution_count": 40,
   "id": "8b9e2122-2435-40ee-9497-49ed0591b94b",
   "metadata": {},
   "outputs": [],
   "source": [
    "cat='milk'"
   ]
  },
  {
   "cell_type": "code",
   "execution_count": 41,
   "id": "94c4d1d0-4314-4357-931b-3da9532f81d9",
   "metadata": {},
   "outputs": [
    {
     "ename": "NameError",
     "evalue": "name 'name_tag' is not defined",
     "output_type": "error",
     "traceback": [
      "\u001b[0;31m---------------------------------------------------------------------------\u001b[0m",
      "\u001b[0;31mNameError\u001b[0m                                 Traceback (most recent call last)",
      "\u001b[0;32m<ipython-input-41-73095f2c63f1>\u001b[0m in \u001b[0;36m<module>\u001b[0;34m\u001b[0m\n\u001b[1;32m      1\u001b[0m \u001b[0;32mif\u001b[0m \u001b[0;32mTrue\u001b[0m\u001b[0;34m:\u001b[0m\u001b[0;34m\u001b[0m\u001b[0;34m\u001b[0m\u001b[0m\n\u001b[0;32m----> 2\u001b[0;31m     \u001b[0mpath_to_save_model\u001b[0m \u001b[0;34m=\u001b[0m \u001b[0mpathlib\u001b[0m\u001b[0;34m.\u001b[0m\u001b[0mPath\u001b[0m\u001b[0;34m(\u001b[0m\u001b[0;34m(\u001b[0m\u001b[0mtrain_config\u001b[0m\u001b[0;34m[\u001b[0m\u001b[0;34m'data'\u001b[0m\u001b[0;34m]\u001b[0m\u001b[0;34m[\u001b[0m\u001b[0;34m'path_to_model'\u001b[0m\u001b[0;34m]\u001b[0m\u001b[0;34m)\u001b[0m\u001b[0;34m)\u001b[0m\u001b[0;34m/\u001b[0m \u001b[0mcat\u001b[0m\u001b[0;34m/\u001b[0m \u001b[0mmodel\u001b[0m\u001b[0;34m.\u001b[0m\u001b[0mbase_model\u001b[0m\u001b[0;34m.\u001b[0m\u001b[0mname\u001b[0m \u001b[0;34m/\u001b[0m\u001b[0mname_tag\u001b[0m   \u001b[0;31m# save model history\u001b[0m\u001b[0;34m\u001b[0m\u001b[0;34m\u001b[0m\u001b[0m\n\u001b[0m\u001b[1;32m      3\u001b[0m \u001b[0;34m\u001b[0m\u001b[0m\n\u001b[1;32m      4\u001b[0m \u001b[0;32mwith\u001b[0m \u001b[0mopen\u001b[0m\u001b[0;34m(\u001b[0m\u001b[0;34mf'{path_to_save_model}/test.json'\u001b[0m\u001b[0;34m,\u001b[0m \u001b[0;34m'w'\u001b[0m\u001b[0;34m)\u001b[0m \u001b[0;32mas\u001b[0m \u001b[0mwriter\u001b[0m\u001b[0;34m:\u001b[0m\u001b[0;34m\u001b[0m\u001b[0;34m\u001b[0m\u001b[0m\n\u001b[1;32m      5\u001b[0m     \u001b[0mjson\u001b[0m\u001b[0;34m.\u001b[0m\u001b[0mdump\u001b[0m\u001b[0;34m(\u001b[0m\u001b[0mtestt\u001b[0m\u001b[0;34m,\u001b[0m\u001b[0mwriter\u001b[0m\u001b[0;34m,\u001b[0m\u001b[0mindent\u001b[0m\u001b[0;34m=\u001b[0m\u001b[0;36m4\u001b[0m\u001b[0;34m)\u001b[0m\u001b[0;34m\u001b[0m\u001b[0;34m\u001b[0m\u001b[0m\n",
      "\u001b[0;31mNameError\u001b[0m: name 'name_tag' is not defined"
     ]
    }
   ],
   "source": [
    "if True:\n",
    "    path_to_save_model = pathlib.Path((train_config['data']['path_to_model']))/ cat/ model.base_model.name /name_tag   # save model history\n",
    "\n",
    "with open(f'{path_to_save_model}/test.json', 'w') as writer:\n",
    "    json.dump(testt,writer,indent=4)"
   ]
  },
  {
   "cell_type": "code",
   "execution_count": null,
   "id": "1cffdb07-2cbb-4892-8d43-08d1246c0153",
   "metadata": {},
   "outputs": [],
   "source": []
  },
  {
   "cell_type": "code",
   "execution_count": null,
   "id": "35eb936e-b67f-4481-afb6-4b7c5fcfa132",
   "metadata": {},
   "outputs": [],
   "source": []
  }
 ],
 "metadata": {
  "kernelspec": {
   "display_name": "keras-retina",
   "language": "python",
   "name": "keras-retina"
  },
  "language_info": {
   "codemirror_mode": {
    "name": "ipython",
    "version": 3
   },
   "file_extension": ".py",
   "mimetype": "text/x-python",
   "name": "python",
   "nbconvert_exporter": "python",
   "pygments_lexer": "ipython3",
   "version": "3.8.8"
  }
 },
 "nbformat": 4,
 "nbformat_minor": 5
}
