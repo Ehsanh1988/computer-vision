{
 "cells": [
  {
   "cell_type": "code",
   "execution_count": 39,
   "id": "3aad4466-7b99-4e49-8cb7-bbe40e136797",
   "metadata": {},
   "outputs": [],
   "source": [
    "from pathlib import Path\n",
    "import json\n",
    "import pandas as pd\n",
    "import re"
   ]
  },
  {
   "cell_type": "code",
   "execution_count": 12,
   "id": "cb1ec400-9e19-40b7-81b4-8839a2dd0169",
   "metadata": {},
   "outputs": [],
   "source": [
    "BASE = Path('/workspace/detect-me/product_classifier/saved_models/by_category/')"
   ]
  },
  {
   "cell_type": "code",
   "execution_count": 13,
   "id": "1e62a189-69d6-495c-ac15-10e44f77c487",
   "metadata": {},
   "outputs": [
    {
     "name": "stdout",
     "output_type": "stream",
     "text": [
      "densenet121  efficientnetb7\t  resnet152v2  resnet50v2\t test_result\n",
      "densenet201  inception_resnet_v2  resnet50     tensorboard_logs  vgg16\n"
     ]
    }
   ],
   "source": [
    "!ls $BASE"
   ]
  },
  {
   "cell_type": "code",
   "execution_count": 5,
   "id": "21e7e851-7c0b-4228-b239-4d94d65d2789",
   "metadata": {},
   "outputs": [],
   "source": [
    "list_modesl = ['densenet121',\n",
    "'efficientnetb7',\n",
    "'resnet152v2',\n",
    "'resnet50v2',\n",
    "'densenet201',\n",
    "'inception_resnet_v2',\n",
    "'resnet50',\n",
    "'vgg16',\n",
    "]"
   ]
  },
  {
   "cell_type": "code",
   "execution_count": 16,
   "id": "c01cf39b-2ad1-45cf-8325-52f95e8b6c23",
   "metadata": {},
   "outputs": [
    {
     "data": {
      "text/plain": [
       "[PosixPath('/workspace/detect-me/product_classifier/saved_models/by_category/densenet121/DenseNet121---(Freeze-0)-(lr-0.001-adam)-(opt_cb-cosine_learning_rate_decay)-(epoch-25)-(batch-32)-(dropout-0.3)-FREEZE_0__2021-Aug-21----231339')]"
      ]
     },
     "execution_count": 16,
     "metadata": {},
     "output_type": "execute_result"
    }
   ],
   "source": [
    "list((BASE / list_modesl[0]).glob('*'))"
   ]
  },
  {
   "cell_type": "code",
   "execution_count": 22,
   "id": "99b95a63-5372-41f5-b50e-4c6f3769d7f2",
   "metadata": {},
   "outputs": [],
   "source": [
    "test_results = (BASE / 'test_result').glob('*.json')\n",
    "data_dict = dict() \n",
    "for filep in test_results:\n",
    "    with open(filep) as file:\n",
    "        data = json.load(file)\n",
    "    data_dict[filep.stem] = data"
   ]
  },
  {
   "cell_type": "code",
   "execution_count": 30,
   "id": "f0a23ae6-26c7-47ee-afda-b6ed709de66d",
   "metadata": {},
   "outputs": [],
   "source": [
    "dataframe_testResult = pd.DataFrame(data_dict).T.reset_index()\n",
    "dataframe_testResult = \\\n",
    "        dataframe_testResult.rename({'index' : 'tag'},\n",
    "                            axis=1)"
   ]
  },
  {
   "cell_type": "code",
   "execution_count": 33,
   "id": "21421bb4-b141-421d-a4be-6419425c677b",
   "metadata": {},
   "outputs": [],
   "source": [
    "dataframe_testResult['top_3_acc'].\\\n",
    "    fillna(dataframe_testResult['top_3_accuracy'],\n",
    "          inplace=True)"
   ]
  },
  {
   "cell_type": "code",
   "execution_count": 36,
   "id": "4ed2d151-b658-45dc-b94e-b9bd237ca1d0",
   "metadata": {},
   "outputs": [],
   "source": [
    "dataframe_testResult = dataframe_testResult.drop('top_3_accuracy', axis=1)"
   ]
  },
  {
   "cell_type": "code",
   "execution_count": null,
   "id": "8029bfa6-4689-4632-887b-5e3c08dfce7c",
   "metadata": {},
   "outputs": [],
   "source": [
    "re.search('()')"
   ]
  },
  {
   "cell_type": "code",
   "execution_count": null,
   "id": "c7398e28-fbc0-4eea-a57c-5e2499a27472",
   "metadata": {},
   "outputs": [],
   "source": [
    "for pattern in patterns:\n",
    "    "
   ]
  },
  {
   "cell_type": "code",
   "execution_count": 38,
   "id": "da3bc895-b920-4b16-a17c-84a7769a7ee2",
   "metadata": {},
   "outputs": [
    {
     "data": {
      "text/plain": [
       "0     inception_resnet_v2_INCEPTION_RES---(Freeze-20...\n",
       "1     resnet152v2_RESNET152V2---(Freeze-500)-(lr-0.0...\n",
       "2     densenet121_DenseNet121---(Freeze-50)-(lr-0.00...\n",
       "3     densenet201_DenseNet201---(Freeze-200)-(lr-0.0...\n",
       "4     densenet201_DenseNet201---(Freeze-200)-(lr-0.0...\n",
       "5     densenet201_DenseNet201---(Freeze-200)-(lr-0.0...\n",
       "6     vgg16_VGG16---(Freeze-7)-(lr-0.0001-adam)-(opt...\n",
       "7     vgg16_VGG16---(Freeze-0)-(lr-0.0002-adam)-(opt...\n",
       "8     densenet201_DenseNet201---(Freeze-400)-(lr-0.0...\n",
       "9     densenet201_DenseNet201---(Freeze-400)-(lr-0.0...\n",
       "10    densenet201_DenseNet201---(Freeze-0)-(lr-0.001...\n",
       "11    efficientnetb7_EfficientNetB7---(Freeze-20)-(l...\n",
       "12    inception_resnet_v2_INCEPTION_RES---(Freeze-20...\n",
       "13    efficientnetb7_EfficientNetB7---(Freeze-400)-(...\n",
       "14    resnet50v2_RESNET50V2---(Freeze-0)-(lr-0.001-a...\n",
       "15    resnet50v2_RESNET50V2---(Freeze-0)-(lr-0.0001-...\n",
       "16    inception_resnet_v2_INCEPTION_RES---(Freeze-20...\n",
       "17    resnet152v2_RESNET152V2---(Freeze-350)-(lr-0.0...\n",
       "18    densenet121_DenseNet121---(Freeze-0)-(lr-0.001...\n",
       "Name: tag, dtype: object"
      ]
     },
     "execution_count": 38,
     "metadata": {},
     "output_type": "execute_result"
    }
   ],
   "source": [
    "dataframe_testResult['tag']"
   ]
  },
  {
   "cell_type": "code",
   "execution_count": null,
   "id": "c3055912-ecfd-434f-b169-1dfe7847ecb2",
   "metadata": {},
   "outputs": [],
   "source": []
  }
 ],
 "metadata": {
  "kernelspec": {
   "display_name": "keras-retina",
   "language": "python",
   "name": "keras-retina"
  },
  "language_info": {
   "codemirror_mode": {
    "name": "ipython",
    "version": 3
   },
   "file_extension": ".py",
   "mimetype": "text/x-python",
   "name": "python",
   "nbconvert_exporter": "python",
   "pygments_lexer": "ipython3",
   "version": "3.8.8"
  }
 },
 "nbformat": 4,
 "nbformat_minor": 5
}
